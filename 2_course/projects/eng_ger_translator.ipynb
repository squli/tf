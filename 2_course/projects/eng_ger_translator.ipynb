{
  "cells": [
    {
      "cell_type": "markdown",
      "metadata": {
        "id": "DaI15qB0rXdG"
      },
      "source": [
        "# Capstone Project\n",
        "## Neural translation model\n",
        "### Instructions\n",
        "\n",
        "In this notebook, you will create a neural network that translates from English to German. You will use concepts from throughout this course, including building more flexible model architectures, freezing layers, data processing pipeline and sequence modelling.\n",
        "\n",
        "This project is peer-assessed. Within this notebook you will find instructions in each section for how to complete the project. Pay close attention to the instructions as the peer review will be carried out according to a grading rubric that checks key parts of the project instructions. Feel free to add extra cells into the notebook as required.\n",
        "\n",
        "### How to submit\n",
        "\n",
        "When you have completed the Capstone project notebook, you will submit a pdf of the notebook for peer review. First ensure that the notebook has been fully executed from beginning to end, and all of the cell outputs are visible. This is important, as the grading rubric depends on the reviewer being able to view the outputs of your notebook. Save the notebook as a pdf (File -> Download as -> PDF via LaTeX). You should then submit this pdf for review.\n",
        "\n",
        "### Let's get started!\n",
        "\n",
        "We'll start by running some imports, and loading the dataset. For this project you are free to make further imports throughout the notebook as you wish."
      ]
    },
    {
      "cell_type": "code",
      "execution_count": 1,
      "metadata": {
        "id": "hOvyfpnjrXdK",
        "colab": {
          "base_uri": "https://localhost:8080/",
          "height": 1000
        },
        "outputId": "7e3acfe0-f783-4c86-c269-5248bef82919",
        "collapsed": true
      },
      "outputs": [
        {
          "output_type": "display_data",
          "data": {
            "text/plain": [
              "<IPython.core.display.HTML object>"
            ],
            "text/html": [
              "\n",
              "     <input type=\"file\" id=\"files-c52e3004-ed90-4377-8a74-305067e98f33\" name=\"files[]\" multiple disabled\n",
              "        style=\"border:none\" />\n",
              "     <output id=\"result-c52e3004-ed90-4377-8a74-305067e98f33\">\n",
              "      Upload widget is only available when the cell has been executed in the\n",
              "      current browser session. Please rerun this cell to enable.\n",
              "      </output>\n",
              "      <script>// Copyright 2017 Google LLC\n",
              "//\n",
              "// Licensed under the Apache License, Version 2.0 (the \"License\");\n",
              "// you may not use this file except in compliance with the License.\n",
              "// You may obtain a copy of the License at\n",
              "//\n",
              "//      http://www.apache.org/licenses/LICENSE-2.0\n",
              "//\n",
              "// Unless required by applicable law or agreed to in writing, software\n",
              "// distributed under the License is distributed on an \"AS IS\" BASIS,\n",
              "// WITHOUT WARRANTIES OR CONDITIONS OF ANY KIND, either express or implied.\n",
              "// See the License for the specific language governing permissions and\n",
              "// limitations under the License.\n",
              "\n",
              "/**\n",
              " * @fileoverview Helpers for google.colab Python module.\n",
              " */\n",
              "(function(scope) {\n",
              "function span(text, styleAttributes = {}) {\n",
              "  const element = document.createElement('span');\n",
              "  element.textContent = text;\n",
              "  for (const key of Object.keys(styleAttributes)) {\n",
              "    element.style[key] = styleAttributes[key];\n",
              "  }\n",
              "  return element;\n",
              "}\n",
              "\n",
              "// Max number of bytes which will be uploaded at a time.\n",
              "const MAX_PAYLOAD_SIZE = 100 * 1024;\n",
              "\n",
              "function _uploadFiles(inputId, outputId) {\n",
              "  const steps = uploadFilesStep(inputId, outputId);\n",
              "  const outputElement = document.getElementById(outputId);\n",
              "  // Cache steps on the outputElement to make it available for the next call\n",
              "  // to uploadFilesContinue from Python.\n",
              "  outputElement.steps = steps;\n",
              "\n",
              "  return _uploadFilesContinue(outputId);\n",
              "}\n",
              "\n",
              "// This is roughly an async generator (not supported in the browser yet),\n",
              "// where there are multiple asynchronous steps and the Python side is going\n",
              "// to poll for completion of each step.\n",
              "// This uses a Promise to block the python side on completion of each step,\n",
              "// then passes the result of the previous step as the input to the next step.\n",
              "function _uploadFilesContinue(outputId) {\n",
              "  const outputElement = document.getElementById(outputId);\n",
              "  const steps = outputElement.steps;\n",
              "\n",
              "  const next = steps.next(outputElement.lastPromiseValue);\n",
              "  return Promise.resolve(next.value.promise).then((value) => {\n",
              "    // Cache the last promise value to make it available to the next\n",
              "    // step of the generator.\n",
              "    outputElement.lastPromiseValue = value;\n",
              "    return next.value.response;\n",
              "  });\n",
              "}\n",
              "\n",
              "/**\n",
              " * Generator function which is called between each async step of the upload\n",
              " * process.\n",
              " * @param {string} inputId Element ID of the input file picker element.\n",
              " * @param {string} outputId Element ID of the output display.\n",
              " * @return {!Iterable<!Object>} Iterable of next steps.\n",
              " */\n",
              "function* uploadFilesStep(inputId, outputId) {\n",
              "  const inputElement = document.getElementById(inputId);\n",
              "  inputElement.disabled = false;\n",
              "\n",
              "  const outputElement = document.getElementById(outputId);\n",
              "  outputElement.innerHTML = '';\n",
              "\n",
              "  const pickedPromise = new Promise((resolve) => {\n",
              "    inputElement.addEventListener('change', (e) => {\n",
              "      resolve(e.target.files);\n",
              "    });\n",
              "  });\n",
              "\n",
              "  const cancel = document.createElement('button');\n",
              "  inputElement.parentElement.appendChild(cancel);\n",
              "  cancel.textContent = 'Cancel upload';\n",
              "  const cancelPromise = new Promise((resolve) => {\n",
              "    cancel.onclick = () => {\n",
              "      resolve(null);\n",
              "    };\n",
              "  });\n",
              "\n",
              "  // Wait for the user to pick the files.\n",
              "  const files = yield {\n",
              "    promise: Promise.race([pickedPromise, cancelPromise]),\n",
              "    response: {\n",
              "      action: 'starting',\n",
              "    }\n",
              "  };\n",
              "\n",
              "  cancel.remove();\n",
              "\n",
              "  // Disable the input element since further picks are not allowed.\n",
              "  inputElement.disabled = true;\n",
              "\n",
              "  if (!files) {\n",
              "    return {\n",
              "      response: {\n",
              "        action: 'complete',\n",
              "      }\n",
              "    };\n",
              "  }\n",
              "\n",
              "  for (const file of files) {\n",
              "    const li = document.createElement('li');\n",
              "    li.append(span(file.name, {fontWeight: 'bold'}));\n",
              "    li.append(span(\n",
              "        `(${file.type || 'n/a'}) - ${file.size} bytes, ` +\n",
              "        `last modified: ${\n",
              "            file.lastModifiedDate ? file.lastModifiedDate.toLocaleDateString() :\n",
              "                                    'n/a'} - `));\n",
              "    const percent = span('0% done');\n",
              "    li.appendChild(percent);\n",
              "\n",
              "    outputElement.appendChild(li);\n",
              "\n",
              "    const fileDataPromise = new Promise((resolve) => {\n",
              "      const reader = new FileReader();\n",
              "      reader.onload = (e) => {\n",
              "        resolve(e.target.result);\n",
              "      };\n",
              "      reader.readAsArrayBuffer(file);\n",
              "    });\n",
              "    // Wait for the data to be ready.\n",
              "    let fileData = yield {\n",
              "      promise: fileDataPromise,\n",
              "      response: {\n",
              "        action: 'continue',\n",
              "      }\n",
              "    };\n",
              "\n",
              "    // Use a chunked sending to avoid message size limits. See b/62115660.\n",
              "    let position = 0;\n",
              "    do {\n",
              "      const length = Math.min(fileData.byteLength - position, MAX_PAYLOAD_SIZE);\n",
              "      const chunk = new Uint8Array(fileData, position, length);\n",
              "      position += length;\n",
              "\n",
              "      const base64 = btoa(String.fromCharCode.apply(null, chunk));\n",
              "      yield {\n",
              "        response: {\n",
              "          action: 'append',\n",
              "          file: file.name,\n",
              "          data: base64,\n",
              "        },\n",
              "      };\n",
              "\n",
              "      let percentDone = fileData.byteLength === 0 ?\n",
              "          100 :\n",
              "          Math.round((position / fileData.byteLength) * 100);\n",
              "      percent.textContent = `${percentDone}% done`;\n",
              "\n",
              "    } while (position < fileData.byteLength);\n",
              "  }\n",
              "\n",
              "  // All done.\n",
              "  yield {\n",
              "    response: {\n",
              "      action: 'complete',\n",
              "    }\n",
              "  };\n",
              "}\n",
              "\n",
              "scope.google = scope.google || {};\n",
              "scope.google.colab = scope.google.colab || {};\n",
              "scope.google.colab._files = {\n",
              "  _uploadFiles,\n",
              "  _uploadFilesContinue,\n",
              "};\n",
              "})(self);\n",
              "</script> "
            ]
          },
          "metadata": {}
        },
        {
          "output_type": "stream",
          "name": "stdout",
          "text": [
            "Saving deu.txt to deu.txt\n"
          ]
        },
        {
          "output_type": "execute_result",
          "data": {
            "text/plain": [
              "{'deu.txt': b'Hi.\\tHallo!\\tCC}"
            ]
          },
          "metadata": {},
          "execution_count": 1
        }
      ],
      "source": [
        "import tensorflow as tf\n",
        "import tensorflow_hub as hub\n",
        "import unicodedata\n",
        "import re\n",
        "\n",
        "from tensorflow.keras.layers import Layer, Input, Masking, LSTM, Embedding, Dense, Dropout\n",
        "\n",
        "from google.colab import files\n",
        "files.upload()"
      ]
    },
    {
      "cell_type": "markdown",
      "metadata": {
        "id": "NFJpxR-ErXdM"
      },
      "source": [
        "![Flags overview image](data/germany_uk_flags.png)\n",
        "\n",
        "For the capstone project, you will use a language dataset from http://www.manythings.org/anki/ to build a neural translation model. This dataset consists of over 200,000 pairs of sentences in English and German. In order to make the training quicker, we will restrict to our dataset to 20,000 pairs. Feel free to change this if you wish - the size of the dataset used is not part of the grading rubric.\n",
        "\n",
        "Your goal is to develop a neural translation model from English to German, making use of a pre-trained English word embedding module."
      ]
    },
    {
      "cell_type": "code",
      "execution_count": 2,
      "metadata": {
        "id": "neRSHR6OrXdM"
      },
      "outputs": [],
      "source": [
        "# Run this cell to load the dataset\n",
        "\n",
        "NUM_EXAMPLES = 5000\n",
        "data_examples = []\n",
        "with open('deu.txt', 'r', encoding='utf8') as f:\n",
        "    for line in f.readlines():\n",
        "        if len(data_examples) < NUM_EXAMPLES:\n",
        "            data_examples.append(line)\n",
        "        else:\n",
        "            break"
      ]
    },
    {
      "cell_type": "code",
      "execution_count": 3,
      "metadata": {
        "id": "bAveev0zrXdM"
      },
      "outputs": [],
      "source": [
        "# These functions preprocess English and German sentences\n",
        "\n",
        "def unicode_to_ascii(s):\n",
        "    return ''.join(c for c in unicodedata.normalize('NFD', s) if unicodedata.category(c) != 'Mn')\n",
        "\n",
        "def preprocess_sentence(sentence):\n",
        "    sentence = sentence.lower().strip()\n",
        "    sentence = re.sub(r\"ü\", 'ue', sentence)\n",
        "    sentence = re.sub(r\"ä\", 'ae', sentence)\n",
        "    sentence = re.sub(r\"ö\", 'oe', sentence)\n",
        "    sentence = re.sub(r'ß', 'ss', sentence)\n",
        "\n",
        "    sentence = unicode_to_ascii(sentence)\n",
        "    sentence = re.sub(r\"([?.!,])\", r\" \\1 \", sentence)\n",
        "    sentence = re.sub(r\"[^a-z?.!,']+\", \" \", sentence)\n",
        "    sentence = re.sub(r'[\" \"]+', \" \", sentence)\n",
        "\n",
        "    return sentence.strip()"
      ]
    },
    {
      "cell_type": "markdown",
      "metadata": {
        "id": "V2fbSKpWrXdM"
      },
      "source": [
        "#### The custom translation model\n",
        "The following is a schematic of the custom translation model architecture you will develop in this project.\n",
        "\n",
        "![Model Schematic](data/neural_translation_model.png)\n",
        "\n",
        "Key:\n",
        "![Model key](data/neural_translation_model_key.png)\n",
        "\n",
        "The custom model consists of an encoder RNN and a decoder RNN. The encoder takes words of an English sentence as input, and uses a pre-trained word embedding to embed the words into a 128-dimensional space. To indicate the end of the input sentence, a special end token (in the same 128-dimensional space) is passed in as an input. This token is a TensorFlow Variable that is learned in the training phase (unlike the pre-trained word embedding, which is frozen).\n",
        "\n",
        "The decoder RNN takes the internal state of the encoder network as its initial state. A start token is passed in as the first input, which is embedded using a learned German word embedding. The decoder RNN then makes a prediction for the next German word, which during inference is then passed in as the following input, and this process is repeated until the special `<end>` token is emitted from the decoder."
      ]
    },
    {
      "cell_type": "markdown",
      "metadata": {
        "id": "xtduLAX7rXdN"
      },
      "source": [
        "## 1. Text preprocessing\n",
        "* Create separate lists of English and German sentences, and preprocess them using the `preprocess_sentence` function provided for you above.\n",
        "* Add a special `\"<start>\"` and `\"<end>\"` token to the beginning and end of every German sentence.\n",
        "* Use the Tokenizer class from the `tf.keras.preprocessing.text` module to tokenize the German sentences, ensuring that no character filters are applied. _Hint: use the Tokenizer's \"filter\" keyword argument._\n",
        "* Print out at least 5 randomly chosen examples of (preprocessed) English and German sentence pairs. For the German sentence, print out the text (with start and end tokens) as well as the tokenized sequence.\n",
        "* Pad the end of the tokenized German sequences with zeros, and batch the complete set of sequences into one numpy array."
      ]
    },
    {
      "cell_type": "code",
      "execution_count": 5,
      "metadata": {
        "scrolled": true,
        "id": "19XYiMTbrXdN",
        "outputId": "b990dfde-7fe3-42f9-8cf8-6f97222a48fb",
        "colab": {
          "base_uri": "https://localhost:8080/"
        }
      },
      "outputs": [
        {
          "output_type": "stream",
          "name": "stdout",
          "text": [
            "He's good.\tEr ist gut.\tCC-BY 2.0 (France) Attribution: tatoeba.org #1855193 (Spamster) & #1857848 (Pfirsichbaeumchen)\n",
            "\n",
            "he's good .\n",
            "er ist gut .\n"
          ]
        }
      ],
      "source": [
        "# Create separate lists of English and German sentences, and preprocess them using the preprocess_sentence function provided\n",
        "# for you above.\n",
        "\n",
        "def parse_input_data(input_data:list):\n",
        "    english_sentences = []\n",
        "    german_sentences = []\n",
        "    for string in input_data:\n",
        "        splitted = string.split(\"\\t\")\n",
        "        english_sentences.append(preprocess_sentence(splitted[0]))\n",
        "        german_sentences.append(preprocess_sentence(splitted[1]))\n",
        "    return english_sentences, german_sentences\n",
        "\n",
        "english_sentences, german_sentences = parse_input_data(data_examples)\n",
        "\n",
        "print(data_examples[563])\n",
        "print(english_sentences[563])\n",
        "print(german_sentences[563])"
      ]
    },
    {
      "cell_type": "code",
      "execution_count": 7,
      "metadata": {
        "id": "OdruvcyrrXdO",
        "outputId": "17ab4979-3f63-480d-c7e7-2783fe7f0b08",
        "colab": {
          "base_uri": "https://localhost:8080/"
        }
      },
      "outputs": [
        {
          "output_type": "stream",
          "name": "stdout",
          "text": [
            "He's good.\tEr ist gut.\tCC-BY 2.0 (France) Attribution: tatoeba.org #1855193 (Spamster) & #1857848 (Pfirsichbaeumchen)\n",
            "\n",
            "he's good .\n",
            "er ist gut .\n",
            "<start> he's good . <end>\n",
            "<start> er ist gut . <end>\n"
          ]
        }
      ],
      "source": [
        "# Add a special \"<start>\" and \"<end>\" token to the beginning and end of every German sentence.\n",
        "\n",
        "def add_tokens(line):\n",
        "    line_with_tokens = \"<start> \"\n",
        "    line_with_tokens += line\n",
        "    line_with_tokens += \" <end>\"\n",
        "    return line_with_tokens\n",
        "\n",
        "english_sentences_tokens = []\n",
        "for s in english_sentences:\n",
        "    english_sentences_tokens.append(add_tokens(s))\n",
        "\n",
        "german_sentences_tokens = []\n",
        "for s in german_sentences:\n",
        "    german_sentences_tokens.append(add_tokens(s))\n",
        "\n",
        "print(data_examples[563])\n",
        "print(english_sentences[563])\n",
        "print(german_sentences[563])\n",
        "print(english_sentences_tokens[563])\n",
        "print(german_sentences_tokens[563])\n"
      ]
    },
    {
      "cell_type": "code",
      "execution_count": 8,
      "metadata": {
        "id": "-LtsypqnrXdO"
      },
      "outputs": [],
      "source": [
        "# Use the Tokenizer class from the tf.keras.preprocessing.text module to tokenize the German sentences,\n",
        "# ensuring that no character filters are applied. Hint: use the Tokenizer's \"filter\" keyword argument.\n",
        "\n",
        "from tensorflow.keras.preprocessing.text import Tokenizer\n",
        "\n",
        "tokenizer = Tokenizer(filters='')\n",
        "tokenizer.fit_on_texts(german_sentences_tokens)\n",
        "sequences = tokenizer.texts_to_sequences(german_sentences_tokens)"
      ]
    },
    {
      "cell_type": "code",
      "execution_count": 9,
      "metadata": {
        "id": "JWu7FNvBrXdP"
      },
      "outputs": [],
      "source": [
        "# Print out at least 5 randomly chosen examples of (preprocessed) English and German sentence pairs.\n",
        "# For the German sentence, print out the text (with start and end tokens) as well as the tokenized sequence."
      ]
    },
    {
      "cell_type": "code",
      "execution_count": 11,
      "metadata": {
        "id": "d56RT53qrXdP",
        "outputId": "12fd1a92-ffea-4f19-e08f-4c8e91c8b882",
        "colab": {
          "base_uri": "https://localhost:8080/"
        }
      },
      "outputs": [
        {
          "output_type": "stream",
          "name": "stdout",
          "text": [
            "--------\n",
            "<start> have another . <end> -> <start> nehmen sie noch eins . <end> / [1, 142, 8, 72, 202, 3, 2]\n",
            "--------\n",
            "<start> beat it . <end> -> <start> scher dich weg ! <end> / [1, 192, 21, 65, 5, 2]\n",
            "--------\n",
            "<start> they love it . <end> -> <start> sie lieben es . <end> / [1, 8, 295, 10, 3, 2]\n",
            "--------\n",
            "<start> do i look ok ? <end> -> <start> seh ich ok aus ? <end> / [1, 1026, 4, 1697, 61, 9, 2]\n",
            "--------\n",
            "<start> tom may win . <end> -> <start> tom kann gewinnen . <end> / [1, 6, 29, 222, 3, 2]\n"
          ]
        }
      ],
      "source": [
        "import random\n",
        "\n",
        "random_integers = [random.randint(0, 5000) for _ in range(5)]\n",
        "\n",
        "for r in random_integers:\n",
        "    print(\"--------\")\n",
        "    print(f\"{english_sentences_tokens[r]} -> {german_sentences_tokens[r]} / {sequences[r]}\")"
      ]
    },
    {
      "cell_type": "code",
      "execution_count": 12,
      "metadata": {
        "id": "H726uC-urXdP"
      },
      "outputs": [],
      "source": [
        "# Pad the end of the tokenized German sequences with zeros, and batch the complete set of sequences into one numpy array.\n",
        "from tensorflow.keras.preprocessing.sequence import pad_sequences\n",
        "import numpy as np\n",
        "\n",
        "# Pad the sequences\n",
        "padded_german_sequences = pad_sequences(sequences, padding='post')\n",
        "\n",
        "# Convert to numpy array\n",
        "padded_german_sequences_array = np.array(padded_german_sequences)\n"
      ]
    },
    {
      "cell_type": "markdown",
      "metadata": {
        "id": "iZ-g1MrvrXdP"
      },
      "source": [
        "## 2. Prepare the data with tf.data.Dataset objects"
      ]
    },
    {
      "cell_type": "markdown",
      "metadata": {
        "id": "HnmfJWNJrXdP"
      },
      "source": [
        "#### Load the embedding layer\n",
        "As part of the dataset preproceessing for this project, you will use a pre-trained English word embedding module from TensorFlow Hub. The URL for the module is https://tfhub.dev/google/tf2-preview/nnlm-en-dim128-with-normalization/1. This module has also been made available as a complete saved model in the folder `'./models/tf2-preview_nnlm-en-dim128_1'`.\n",
        "\n",
        "This embedding takes a batch of text tokens in a 1-D tensor of strings as input. It then embeds the separate tokens into a 128-dimensional space.\n",
        "\n",
        "The code to load and test the embedding layer is provided for you below.\n",
        "\n",
        "**NB:** this model can also be used as a sentence embedding module. The module will process each token by removing punctuation and splitting on spaces. It then averages the word embeddings over a sentence to give a single embedding vector. However, we will use it only as a word embedding module, and will pass each word in the input sentence as a separate token."
      ]
    },
    {
      "cell_type": "code",
      "execution_count": 13,
      "metadata": {
        "id": "B2s4gfnurXdP",
        "outputId": "25e0cf8d-a56f-4305-8b79-48782ffb6a22",
        "colab": {
          "base_uri": "https://localhost:8080/"
        }
      },
      "outputs": [
        {
          "output_type": "stream",
          "name": "stdout",
          "text": [
            "ls: cannot access 'models': No such file or directory\n"
          ]
        }
      ],
      "source": [
        "!ls models"
      ]
    },
    {
      "cell_type": "code",
      "execution_count": 14,
      "metadata": {
        "id": "yZuI2VYyrXdQ",
        "outputId": "4a923961-8374-4251-b336-aa91683ab02c",
        "colab": {
          "base_uri": "https://localhost:8080/"
        }
      },
      "outputs": [
        {
          "output_type": "stream",
          "name": "stdout",
          "text": [
            "<tensorflow_hub.keras_layer.KerasLayer object at 0x7bf6e61db5b0>\n"
          ]
        }
      ],
      "source": [
        "# Load embedding module from Tensorflow Hub\n",
        "#embedding_layer = hub.KerasLayer(\"tf2-preview_nnlm-en-dim128_1\",\n",
        "#                                 output_shape=[128], input_shape=[], dtype=tf.string)\n",
        "embedding_layer = hub.KerasLayer(\"https://tfhub.dev/google/tf2-preview/nnlm-en-dim128/1\",\n",
        "                                 output_shape=[128], input_shape=[], dtype=tf.string)\n",
        "print(embedding_layer)"
      ]
    },
    {
      "cell_type": "code",
      "execution_count": 15,
      "metadata": {
        "id": "SCthjs5_rXdQ",
        "outputId": "5077e3d9-6e58-4cc3-a426-20fda840870a",
        "colab": {
          "base_uri": "https://localhost:8080/"
        }
      },
      "outputs": [
        {
          "output_type": "execute_result",
          "data": {
            "text/plain": [
              "TensorShape([7, 128])"
            ]
          },
          "metadata": {},
          "execution_count": 15
        }
      ],
      "source": [
        "# Test the layer\n",
        "\n",
        "embedding_layer(tf.constant([\"these\", \"aren't\", \"the\", \"droids\", \"you're\", \"looking\", \"for\"])).shape"
      ]
    },
    {
      "cell_type": "markdown",
      "metadata": {
        "id": "u8VsCpPVrXdQ"
      },
      "source": [
        "You should now prepare the training and validation Datasets.\n",
        "\n",
        "* Create a random training and validation set split of the data, reserving e.g. 20% of the data for validation (NB: each English dataset example is a single sentence string, and each German dataset example is a sequence of padded integer tokens).\n",
        "* Load the training and validation sets into a tf.data.Dataset object, passing in a tuple of English and German data for both training and validation sets.\n",
        "* Create a function to map over the datasets that splits each English sentence at spaces. Apply this function to both Dataset objects using the map method. _Hint: look at the tf.strings.split function._\n",
        "* Create a function to map over the datasets that embeds each sequence of English words using the loaded embedding layer/model. Apply this function to both Dataset objects using the map method.\n",
        "* Create a function to filter out dataset examples where the English sentence is more than 13 (embedded) tokens in length. Apply this function to both Dataset objects using the filter method.\n",
        "* Create a function to map over the datasets that pads each English sequence of embeddings with some distinct padding value before the sequence, so that each sequence is length 13. Apply this function to both Dataset objects using the map method. _Hint: look at the tf.pad function. You can extract a Tensor shape using tf.shape; you might also find the tf.math.maximum function useful._\n",
        "* Batch both training and validation Datasets with a batch size of 16.\n",
        "* Print the `element_spec` property for the training and validation Datasets.\n",
        "* Using the Dataset `.take(1)` method, print the shape of the English data example from the training Dataset.\n",
        "* Using the Dataset `.take(1)` method, print the German data example Tensor from the validation Dataset."
      ]
    },
    {
      "cell_type": "code",
      "execution_count": 87,
      "metadata": {
        "id": "92oeYqOorXdQ",
        "outputId": "1d5be741-3bbb-4056-d38d-108990ee3709",
        "colab": {
          "base_uri": "https://localhost:8080/"
        }
      },
      "outputs": [
        {
          "output_type": "stream",
          "name": "stdout",
          "text": [
            "<start> i'm chubby . <end> - [  1   4  11 864   3   2   0   0   0   0   0]\n",
            "<start> i'm stunned . <end> - [   1    4   11 1523    3    2    0    0    0    0    0]\n",
            "<class 'numpy.ndarray'>\n"
          ]
        }
      ],
      "source": [
        "# Create a random training and validation set split of the data, reserving e.g. 20% of the data for validation\n",
        "# (NB: each English dataset example is a single sentence string, and each German dataset example is a\n",
        "# sequence of padded integer tokens).\n",
        "\n",
        "from sklearn.model_selection import train_test_split\n",
        "\n",
        "# Split the data into training and validation sets\n",
        "english_train, english_val, german_train, german_val = train_test_split(\n",
        "    english_sentences_tokens, padded_german_sequences, test_size=0.1)\n",
        "\n",
        "print(f\"{english_train[5]} - {german_train[5]}\")\n",
        "print(f\"{english_val[5]} - {german_val[5]}\")\n",
        "print(type(german_val[5]))"
      ]
    },
    {
      "cell_type": "code",
      "execution_count": 88,
      "metadata": {
        "id": "tFsiYOusrXdR",
        "outputId": "6b3fb596-1f42-4c17-e589-ccec10e2481d",
        "colab": {
          "base_uri": "https://localhost:8080/"
        }
      },
      "outputs": [
        {
          "output_type": "stream",
          "name": "stdout",
          "text": [
            "<_TensorSliceDataset element_spec=(TensorSpec(shape=(), dtype=tf.string, name=None), TensorSpec(shape=(11,), dtype=tf.int32, name=None))>\n",
            "<_TensorSliceDataset element_spec=(TensorSpec(shape=(), dtype=tf.string, name=None), TensorSpec(shape=(11,), dtype=tf.int32, name=None))>\n"
          ]
        }
      ],
      "source": [
        "# Load the training and validation sets into a tf.data.Dataset object,\n",
        "# passing in a tuple of English and German data for both training and validation sets.\n",
        "\n",
        "train_dataset = tf.data.Dataset.from_tensor_slices((english_train, german_train))\n",
        "val_dataset = tf.data.Dataset.from_tensor_slices((english_val, german_val))\n",
        "\n",
        "print(train_dataset)\n",
        "print(val_dataset)"
      ]
    },
    {
      "cell_type": "code",
      "execution_count": 89,
      "metadata": {
        "id": "0lXqjZQ7rXdR",
        "outputId": "d87ffa19-a25f-40af-b92a-a20a58748121",
        "colab": {
          "base_uri": "https://localhost:8080/"
        }
      },
      "outputs": [
        {
          "output_type": "stream",
          "name": "stdout",
          "text": [
            "<_MapDataset element_spec=(TensorSpec(shape=(None,), dtype=tf.string, name=None), TensorSpec(shape=(11,), dtype=tf.int32, name=None))>\n",
            "<_MapDataset element_spec=(TensorSpec(shape=(None,), dtype=tf.string, name=None), TensorSpec(shape=(11,), dtype=tf.int32, name=None))>\n",
            "<class 'tensorflow.python.data.ops.map_op._MapDataset'>\n",
            "<class 'tensorflow.python.data.ops.map_op._MapDataset'>\n"
          ]
        }
      ],
      "source": [
        "# Create a function to map over the datasets that splits each English sentence at spaces.\n",
        "# Apply this function to both Dataset objects using the map method. Hint: look at the tf.strings.split function.\n",
        "\n",
        "def split_english(sentence, target):\n",
        "    sentence = tf.strings.split(sentence)\n",
        "    if isinstance(sentence, tf.RaggedTensor):\n",
        "        sentence = sentence.to_tensor()\n",
        "    sentence = tf.reshape(sentence, [-1])\n",
        "    return sentence, target\n",
        "\n",
        "# Apply the function to both datasets\n",
        "train_dataset = train_dataset.map(split_english)\n",
        "val_dataset = val_dataset.map(split_english)\n",
        "\n",
        "print(train_dataset)\n",
        "print(val_dataset)\n",
        "\n",
        "print(type(train_dataset))\n",
        "print(type(val_dataset))"
      ]
    },
    {
      "cell_type": "code",
      "execution_count": 90,
      "metadata": {
        "id": "Hps4B7JIrXdR",
        "outputId": "735558c1-8f5e-442f-bada-b63c9375c947",
        "colab": {
          "base_uri": "https://localhost:8080/"
        }
      },
      "outputs": [
        {
          "output_type": "stream",
          "name": "stdout",
          "text": [
            "<_MapDataset element_spec=(TensorSpec(shape=(None, 128), dtype=tf.float32, name=None), TensorSpec(shape=(11,), dtype=tf.int32, name=None))>\n",
            "<_MapDataset element_spec=(TensorSpec(shape=(None, 128), dtype=tf.float32, name=None), TensorSpec(shape=(11,), dtype=tf.int32, name=None))>\n",
            "<class 'tensorflow.python.data.ops.map_op._MapDataset'>\n",
            "<class 'tensorflow.python.data.ops.map_op._MapDataset'>\n"
          ]
        }
      ],
      "source": [
        "# Create a function to map over the datasets that embeds each sequence of English words using the loaded embedding layer/model.\n",
        "# Apply this function to both Dataset objects using the map method.\n",
        "\n",
        "def embed_english(sentence, target):\n",
        "    sentence = embedding_layer(sentence)\n",
        "    return sentence, target\n",
        "\n",
        "train_dataset = train_dataset.map(embed_english)\n",
        "val_dataset = val_dataset.map(embed_english)\n",
        "\n",
        "print(train_dataset)\n",
        "print(val_dataset)\n",
        "\n",
        "print(type(train_dataset))\n",
        "print(type(val_dataset))"
      ]
    },
    {
      "cell_type": "code",
      "execution_count": 91,
      "metadata": {
        "id": "9JIZywLJrXdS"
      },
      "outputs": [],
      "source": [
        "# Create a function to filter out dataset examples where the English sentence is more than 13 (embedded) tokens in length.\n",
        "# Apply this function to both Dataset objects using the filter method.\n",
        "\n",
        "# Function to filter out long English sentences\n",
        "def filter_long_sentences(sentence, target):\n",
        "    return tf.shape(sentence)[0] <= 13\n",
        "\n",
        "# Apply the function to both datasets\n",
        "train_dataset = train_dataset.filter(filter_long_sentences)\n",
        "val_dataset = val_dataset.filter(filter_long_sentences)"
      ]
    },
    {
      "cell_type": "code",
      "execution_count": 92,
      "metadata": {
        "id": "IbeVTzRRrXdS"
      },
      "outputs": [],
      "source": [
        "# Create a function to map over the datasets that pads each English sequence of embeddings with some distinct padding\n",
        "# value before the sequence, so that each sequence is length 13. Apply this function to both Dataset objects using\n",
        "# the map method. Hint: look at the tf.pad function. You can extract a Tensor shape using tf.shape; you might also\n",
        "# find the tf.math.maximum function useful.\n",
        "\n",
        "# Function to pad each English sequence to length 13\n",
        "def pad_english(sentence, target):\n",
        "    max_length = 13\n",
        "    padding_value = -1.0  # Distinct padding value\n",
        "    sentence = tf.pad(sentence, [[max_length - tf.shape(sentence)[0], 0], [0, 0]], constant_values=padding_value)\n",
        "    return sentence, target\n",
        "\n",
        "# Apply the function to both datasets\n",
        "train_dataset = train_dataset.map(pad_english)\n",
        "val_dataset = val_dataset.map(pad_english)"
      ]
    },
    {
      "cell_type": "code",
      "execution_count": 93,
      "metadata": {
        "id": "DsTYEckerXdS"
      },
      "outputs": [],
      "source": [
        "# Batch both training and validation Datasets with a batch size of 16.\n",
        "batch_size = 16\n",
        "train_dataset = train_dataset.batch(batch_size)\n",
        "val_dataset = val_dataset.batch(batch_size)"
      ]
    },
    {
      "cell_type": "code",
      "execution_count": 94,
      "metadata": {
        "id": "Sw0UTehprXdT",
        "outputId": "665bde9a-69a2-4940-a2ae-1ccb37dc8a2c",
        "colab": {
          "base_uri": "https://localhost:8080/"
        }
      },
      "outputs": [
        {
          "output_type": "stream",
          "name": "stdout",
          "text": [
            "(TensorSpec(shape=(None, None, 128), dtype=tf.float32, name=None), TensorSpec(shape=(None, 11), dtype=tf.int32, name=None))\n",
            "(TensorSpec(shape=(None, None, 128), dtype=tf.float32, name=None), TensorSpec(shape=(None, 11), dtype=tf.int32, name=None))\n"
          ]
        }
      ],
      "source": [
        "# Print the element_spec property for the training and validation Datasets.\n",
        "print(train_dataset.element_spec)\n",
        "print(val_dataset.element_spec)"
      ]
    },
    {
      "cell_type": "code",
      "execution_count": 95,
      "metadata": {
        "id": "JYhGa4GNrXdT",
        "outputId": "ed78cf2a-bf89-4324-ef78-62f3de58dcd9",
        "colab": {
          "base_uri": "https://localhost:8080/"
        }
      },
      "outputs": [
        {
          "output_type": "stream",
          "name": "stdout",
          "text": [
            "(16, 13, 128)\n"
          ]
        }
      ],
      "source": [
        "# Using the Dataset .take(1) method, print the shape of the English data example from the training Dataset.\n",
        "for english_data, _ in train_dataset.take(1):\n",
        "    print(english_data.shape)"
      ]
    },
    {
      "cell_type": "code",
      "execution_count": 96,
      "metadata": {
        "id": "9ySnPAO-rXdT",
        "outputId": "5901aec3-684a-46a4-c89e-2190a69c8911",
        "colab": {
          "base_uri": "https://localhost:8080/"
        }
      },
      "outputs": [
        {
          "output_type": "stream",
          "name": "stdout",
          "text": [
            "(16, 11)\n"
          ]
        }
      ],
      "source": [
        "# Using the Dataset .take(1) method, print the German data example Tensor from the validation Dataset.\n",
        "for _, g_data in val_dataset.take(1):\n",
        "    print(g_data.shape)"
      ]
    },
    {
      "cell_type": "markdown",
      "metadata": {
        "id": "cOeKhuL-rXdU"
      },
      "source": [
        "## 3. Create the custom layer\n",
        "You will now create a custom layer to add the learned end token embedding to the encoder model:\n",
        "\n",
        "![Encoder schematic](data/neural_translation_model_encoder.png)"
      ]
    },
    {
      "cell_type": "markdown",
      "metadata": {
        "id": "h7F6B9q4rXdU"
      },
      "source": [
        "You should now build the custom layer.\n",
        "* Using layer subclassing, create a custom layer that takes a batch of English data examples from one of the Datasets, and adds a learned embedded ‘end’ token to the end of each sequence.\n",
        "* This layer should create a TensorFlow Variable (that will be learned during training) that is 128-dimensional (the size of the embedding space). _Hint: you may find it helpful in the call method to use the tf.tile function to replicate the end token embedding across every element in the batch._\n",
        "* Using the Dataset `.take(1)` method, extract a batch of English data examples from the training Dataset and print the shape. Test the custom layer by calling the layer on the English data batch Tensor and print the resulting Tensor shape (the layer should increase the sequence length by one)."
      ]
    },
    {
      "cell_type": "code",
      "execution_count": 97,
      "metadata": {
        "id": "8O9qcd1KrXdU"
      },
      "outputs": [],
      "source": [
        "# Using layer subclassing, create a custom layer that takes a batch of English data examples from one of the Datasets,\n",
        "# and adds a learned embedded ‘end’ token to the end of each sequence.\n",
        "# This layer should create a TensorFlow Variable (that will be learned during training)\n",
        "# that is 128-dimensional (the size of the embedding space).\n",
        "# Hint: you may find it helpful in the call method to use the tf.tile function to replicate the end token embedding\n",
        "# across every element in the batch.\n",
        "\n",
        "from tensorflow.keras.layers import Layer\n",
        "\n",
        "# Define the custom layer\n",
        "class AddEndTokenLayer(Layer):\n",
        "    def __init__(self, embedding_dim=128, **kwargs):\n",
        "        super(AddEndTokenLayer, self).__init__(**kwargs)\n",
        "        self.embedding_dim = embedding_dim\n",
        "\n",
        "    def build(self, input_shape):\n",
        "        # Initialize the learned end token embedding\n",
        "        self.end_token_embedding = self.add_weight(\n",
        "            shape=(input_shape[-1],),\n",
        "            initializer='random_normal',\n",
        "            trainable=True\n",
        "        )\n",
        "\n",
        "    def call(self, inputs):\n",
        "        end_token = tf.tile(tf.reshape(self.end_token_embedding,\n",
        "                                       shape=(1, 1, self.end_token_embedding.shape[0])),\n",
        "                            [tf.shape(inputs)[0],1,1])\n",
        "        return tf.keras.layers.concatenate([inputs, end_token], axis=1)\n"
      ]
    },
    {
      "cell_type": "code",
      "execution_count": 98,
      "metadata": {
        "id": "yoi6WVMNrXdU",
        "outputId": "52de8ebf-27ed-4d20-e0ed-b5e968693bfe",
        "colab": {
          "base_uri": "https://localhost:8080/"
        }
      },
      "outputs": [
        {
          "output_type": "stream",
          "name": "stdout",
          "text": [
            "(16, 13, 128)\n",
            "(16, 14, 128)\n"
          ]
        }
      ],
      "source": [
        "# Using the Dataset .take(1) method, extract a batch of English data examples from the training Dataset and print the shape.\n",
        "# Test the custom layer by calling the layer on the English data batch Tensor and\n",
        "# print the resulting Tensor shape (the layer should increase the sequence length by one).\n",
        "\n",
        "for english_data, _ in train_dataset.take(1):\n",
        "    print(english_data.shape)\n",
        "    break\n",
        "\n",
        "addEndTokenLayer = AddEndTokenLayer(embedding_dim=128)\n",
        "output_data = addEndTokenLayer(english_data)\n",
        "print(output_data.shape)\n"
      ]
    },
    {
      "cell_type": "markdown",
      "metadata": {
        "id": "9ueTBZn3rXdV"
      },
      "source": [
        "## 4. Build the encoder network\n",
        "The encoder network follows the schematic diagram above. You should now build the RNN encoder model.\n",
        "* Using the functional API, build the encoder network according to the following spec:\n",
        "    * The model will take a batch of sequences of embedded English words as input, as given by the Dataset objects.\n",
        "    * The next layer in the encoder will be the custom layer you created previously, to add a learned end token embedding to the end of the English sequence.\n",
        "    * This is followed by a Masking layer, with the `mask_value` set to the distinct padding value you used when you padded the English sequences with the Dataset preprocessing above.\n",
        "    * The final layer is an LSTM layer with 512 units, which also returns the hidden and cell states.\n",
        "    * The encoder is a multi-output model. There should be two output Tensors of this model: the hidden state and cell states of the LSTM layer. The output of the LSTM layer is unused.\n",
        "* Using the Dataset `.take(1)` method, extract a batch of English data examples from the training Dataset and test the encoder model by calling it on the English data Tensor, and print the shape of the resulting Tensor outputs.\n",
        "* Print the model summary for the encoder network."
      ]
    },
    {
      "cell_type": "code",
      "execution_count": 99,
      "metadata": {
        "id": "v-YY1udNrXdV",
        "outputId": "661dc575-c9d7-41b1-eb0e-a2260987a992",
        "colab": {
          "base_uri": "https://localhost:8080/",
          "height": 385
        }
      },
      "outputs": [
        {
          "output_type": "display_data",
          "data": {
            "text/plain": [
              "\u001b[1mModel: \"functional_2\"\u001b[0m\n"
            ],
            "text/html": [
              "<pre style=\"white-space:pre;overflow-x:auto;line-height:normal;font-family:Menlo,'DejaVu Sans Mono',consolas,'Courier New',monospace\"><span style=\"font-weight: bold\">Model: \"functional_2\"</span>\n",
              "</pre>\n"
            ]
          },
          "metadata": {}
        },
        {
          "output_type": "display_data",
          "data": {
            "text/plain": [
              "┏━━━━━━━━━━━━━━━━━━━━━━━━━━━┳━━━━━━━━━━━━━━━━━━━━━━━━┳━━━━━━━━━━━━━━━━┳━━━━━━━━━━━━━━━━━━━━━━━━┓\n",
              "┃\u001b[1m \u001b[0m\u001b[1mLayer (type)             \u001b[0m\u001b[1m \u001b[0m┃\u001b[1m \u001b[0m\u001b[1mOutput Shape          \u001b[0m\u001b[1m \u001b[0m┃\u001b[1m \u001b[0m\u001b[1m       Param #\u001b[0m\u001b[1m \u001b[0m┃\u001b[1m \u001b[0m\u001b[1mConnected to          \u001b[0m\u001b[1m \u001b[0m┃\n",
              "┡━━━━━━━━━━━━━━━━━━━━━━━━━━━╇━━━━━━━━━━━━━━━━━━━━━━━━╇━━━━━━━━━━━━━━━━╇━━━━━━━━━━━━━━━━━━━━━━━━┩\n",
              "│ input_layer_2             │ (\u001b[38;5;45mNone\u001b[0m, \u001b[38;5;34m13\u001b[0m, \u001b[38;5;34m128\u001b[0m)        │              \u001b[38;5;34m0\u001b[0m │ -                      │\n",
              "│ (\u001b[38;5;33mInputLayer\u001b[0m)              │                        │                │                        │\n",
              "├───────────────────────────┼────────────────────────┼────────────────┼────────────────────────┤\n",
              "│ add_end_token_layer_5     │ (\u001b[38;5;45mNone\u001b[0m, \u001b[38;5;34m14\u001b[0m, \u001b[38;5;34m128\u001b[0m)        │            \u001b[38;5;34m128\u001b[0m │ input_layer_2[\u001b[38;5;34m0\u001b[0m][\u001b[38;5;34m0\u001b[0m]    │\n",
              "│ (\u001b[38;5;33mAddEndTokenLayer\u001b[0m)        │                        │                │                        │\n",
              "├───────────────────────────┼────────────────────────┼────────────────┼────────────────────────┤\n",
              "│ not_equal_2 (\u001b[38;5;33mNotEqual\u001b[0m)    │ (\u001b[38;5;45mNone\u001b[0m, \u001b[38;5;34m14\u001b[0m, \u001b[38;5;34m128\u001b[0m)        │              \u001b[38;5;34m0\u001b[0m │ add_end_token_layer_5… │\n",
              "├───────────────────────────┼────────────────────────┼────────────────┼────────────────────────┤\n",
              "│ masking_2 (\u001b[38;5;33mMasking\u001b[0m)       │ (\u001b[38;5;45mNone\u001b[0m, \u001b[38;5;34m14\u001b[0m, \u001b[38;5;34m128\u001b[0m)        │              \u001b[38;5;34m0\u001b[0m │ add_end_token_layer_5… │\n",
              "├───────────────────────────┼────────────────────────┼────────────────┼────────────────────────┤\n",
              "│ any_2 (\u001b[38;5;33mAny\u001b[0m)               │ (\u001b[38;5;45mNone\u001b[0m, \u001b[38;5;34m14\u001b[0m)             │              \u001b[38;5;34m0\u001b[0m │ not_equal_2[\u001b[38;5;34m0\u001b[0m][\u001b[38;5;34m0\u001b[0m]      │\n",
              "├───────────────────────────┼────────────────────────┼────────────────┼────────────────────────┤\n",
              "│ lstm_4 (\u001b[38;5;33mLSTM\u001b[0m)             │ [(\u001b[38;5;45mNone\u001b[0m, \u001b[38;5;34m14\u001b[0m, \u001b[38;5;34m512\u001b[0m),      │      \u001b[38;5;34m1,312,768\u001b[0m │ masking_2[\u001b[38;5;34m0\u001b[0m][\u001b[38;5;34m0\u001b[0m],       │\n",
              "│                           │ (\u001b[38;5;45mNone\u001b[0m, \u001b[38;5;34m512\u001b[0m), (\u001b[38;5;45mNone\u001b[0m,    │                │ any_2[\u001b[38;5;34m0\u001b[0m][\u001b[38;5;34m0\u001b[0m]            │\n",
              "│                           │ \u001b[38;5;34m512\u001b[0m)]                  │                │                        │\n",
              "└───────────────────────────┴────────────────────────┴────────────────┴────────────────────────┘\n"
            ],
            "text/html": [
              "<pre style=\"white-space:pre;overflow-x:auto;line-height:normal;font-family:Menlo,'DejaVu Sans Mono',consolas,'Courier New',monospace\">┏━━━━━━━━━━━━━━━━━━━━━━━━━━━┳━━━━━━━━━━━━━━━━━━━━━━━━┳━━━━━━━━━━━━━━━━┳━━━━━━━━━━━━━━━━━━━━━━━━┓\n",
              "┃<span style=\"font-weight: bold\"> Layer (type)              </span>┃<span style=\"font-weight: bold\"> Output Shape           </span>┃<span style=\"font-weight: bold\">        Param # </span>┃<span style=\"font-weight: bold\"> Connected to           </span>┃\n",
              "┡━━━━━━━━━━━━━━━━━━━━━━━━━━━╇━━━━━━━━━━━━━━━━━━━━━━━━╇━━━━━━━━━━━━━━━━╇━━━━━━━━━━━━━━━━━━━━━━━━┩\n",
              "│ input_layer_2             │ (<span style=\"color: #00d7ff; text-decoration-color: #00d7ff\">None</span>, <span style=\"color: #00af00; text-decoration-color: #00af00\">13</span>, <span style=\"color: #00af00; text-decoration-color: #00af00\">128</span>)        │              <span style=\"color: #00af00; text-decoration-color: #00af00\">0</span> │ -                      │\n",
              "│ (<span style=\"color: #0087ff; text-decoration-color: #0087ff\">InputLayer</span>)              │                        │                │                        │\n",
              "├───────────────────────────┼────────────────────────┼────────────────┼────────────────────────┤\n",
              "│ add_end_token_layer_5     │ (<span style=\"color: #00d7ff; text-decoration-color: #00d7ff\">None</span>, <span style=\"color: #00af00; text-decoration-color: #00af00\">14</span>, <span style=\"color: #00af00; text-decoration-color: #00af00\">128</span>)        │            <span style=\"color: #00af00; text-decoration-color: #00af00\">128</span> │ input_layer_2[<span style=\"color: #00af00; text-decoration-color: #00af00\">0</span>][<span style=\"color: #00af00; text-decoration-color: #00af00\">0</span>]    │\n",
              "│ (<span style=\"color: #0087ff; text-decoration-color: #0087ff\">AddEndTokenLayer</span>)        │                        │                │                        │\n",
              "├───────────────────────────┼────────────────────────┼────────────────┼────────────────────────┤\n",
              "│ not_equal_2 (<span style=\"color: #0087ff; text-decoration-color: #0087ff\">NotEqual</span>)    │ (<span style=\"color: #00d7ff; text-decoration-color: #00d7ff\">None</span>, <span style=\"color: #00af00; text-decoration-color: #00af00\">14</span>, <span style=\"color: #00af00; text-decoration-color: #00af00\">128</span>)        │              <span style=\"color: #00af00; text-decoration-color: #00af00\">0</span> │ add_end_token_layer_5… │\n",
              "├───────────────────────────┼────────────────────────┼────────────────┼────────────────────────┤\n",
              "│ masking_2 (<span style=\"color: #0087ff; text-decoration-color: #0087ff\">Masking</span>)       │ (<span style=\"color: #00d7ff; text-decoration-color: #00d7ff\">None</span>, <span style=\"color: #00af00; text-decoration-color: #00af00\">14</span>, <span style=\"color: #00af00; text-decoration-color: #00af00\">128</span>)        │              <span style=\"color: #00af00; text-decoration-color: #00af00\">0</span> │ add_end_token_layer_5… │\n",
              "├───────────────────────────┼────────────────────────┼────────────────┼────────────────────────┤\n",
              "│ any_2 (<span style=\"color: #0087ff; text-decoration-color: #0087ff\">Any</span>)               │ (<span style=\"color: #00d7ff; text-decoration-color: #00d7ff\">None</span>, <span style=\"color: #00af00; text-decoration-color: #00af00\">14</span>)             │              <span style=\"color: #00af00; text-decoration-color: #00af00\">0</span> │ not_equal_2[<span style=\"color: #00af00; text-decoration-color: #00af00\">0</span>][<span style=\"color: #00af00; text-decoration-color: #00af00\">0</span>]      │\n",
              "├───────────────────────────┼────────────────────────┼────────────────┼────────────────────────┤\n",
              "│ lstm_4 (<span style=\"color: #0087ff; text-decoration-color: #0087ff\">LSTM</span>)             │ [(<span style=\"color: #00d7ff; text-decoration-color: #00d7ff\">None</span>, <span style=\"color: #00af00; text-decoration-color: #00af00\">14</span>, <span style=\"color: #00af00; text-decoration-color: #00af00\">512</span>),      │      <span style=\"color: #00af00; text-decoration-color: #00af00\">1,312,768</span> │ masking_2[<span style=\"color: #00af00; text-decoration-color: #00af00\">0</span>][<span style=\"color: #00af00; text-decoration-color: #00af00\">0</span>],       │\n",
              "│                           │ (<span style=\"color: #00d7ff; text-decoration-color: #00d7ff\">None</span>, <span style=\"color: #00af00; text-decoration-color: #00af00\">512</span>), (<span style=\"color: #00d7ff; text-decoration-color: #00d7ff\">None</span>,    │                │ any_2[<span style=\"color: #00af00; text-decoration-color: #00af00\">0</span>][<span style=\"color: #00af00; text-decoration-color: #00af00\">0</span>]            │\n",
              "│                           │ <span style=\"color: #00af00; text-decoration-color: #00af00\">512</span>)]                  │                │                        │\n",
              "└───────────────────────────┴────────────────────────┴────────────────┴────────────────────────┘\n",
              "</pre>\n"
            ]
          },
          "metadata": {}
        },
        {
          "output_type": "display_data",
          "data": {
            "text/plain": [
              "\u001b[1m Total params: \u001b[0m\u001b[38;5;34m1,312,896\u001b[0m (5.01 MB)\n"
            ],
            "text/html": [
              "<pre style=\"white-space:pre;overflow-x:auto;line-height:normal;font-family:Menlo,'DejaVu Sans Mono',consolas,'Courier New',monospace\"><span style=\"font-weight: bold\"> Total params: </span><span style=\"color: #00af00; text-decoration-color: #00af00\">1,312,896</span> (5.01 MB)\n",
              "</pre>\n"
            ]
          },
          "metadata": {}
        },
        {
          "output_type": "display_data",
          "data": {
            "text/plain": [
              "\u001b[1m Trainable params: \u001b[0m\u001b[38;5;34m1,312,896\u001b[0m (5.01 MB)\n"
            ],
            "text/html": [
              "<pre style=\"white-space:pre;overflow-x:auto;line-height:normal;font-family:Menlo,'DejaVu Sans Mono',consolas,'Courier New',monospace\"><span style=\"font-weight: bold\"> Trainable params: </span><span style=\"color: #00af00; text-decoration-color: #00af00\">1,312,896</span> (5.01 MB)\n",
              "</pre>\n"
            ]
          },
          "metadata": {}
        },
        {
          "output_type": "display_data",
          "data": {
            "text/plain": [
              "\u001b[1m Non-trainable params: \u001b[0m\u001b[38;5;34m0\u001b[0m (0.00 B)\n"
            ],
            "text/html": [
              "<pre style=\"white-space:pre;overflow-x:auto;line-height:normal;font-family:Menlo,'DejaVu Sans Mono',consolas,'Courier New',monospace\"><span style=\"font-weight: bold\"> Non-trainable params: </span><span style=\"color: #00af00; text-decoration-color: #00af00\">0</span> (0.00 B)\n",
              "</pre>\n"
            ]
          },
          "metadata": {}
        }
      ],
      "source": [
        "from tensorflow.keras.layers import Input, LSTM, Masking\n",
        "from tensorflow.keras.models import Model\n",
        "\n",
        "def build_encoder_model(input_shape):\n",
        "    # Input layer\n",
        "    inputs = Input([13, input_shape])\n",
        "\n",
        "    # Add custom layer\n",
        "    v = AddEndTokenLayer(embedding_dim=128)(inputs)\n",
        "\n",
        "    # Add Masking layer\n",
        "    v = Masking([(lambda x: x*0)(x) for x in range(128)])(v)\n",
        "\n",
        "    # Add LSTM layer with return state\n",
        "    lstm_out, hidden_state, cell_state = LSTM(512, return_sequences=True, return_state=True)(v)\n",
        "\n",
        "    # Create the model\n",
        "    model = Model(inputs=inputs, outputs=[hidden_state, cell_state])\n",
        "\n",
        "    return model\n",
        "\n",
        "encoder_model = build_encoder_model(128)\n",
        "encoder_model.summary()"
      ]
    },
    {
      "cell_type": "code",
      "execution_count": 100,
      "metadata": {
        "id": "j5vOrA6TrXdV",
        "outputId": "db53ea2e-d1e6-4a68-9d6a-be16705e2993",
        "colab": {
          "base_uri": "https://localhost:8080/"
        }
      },
      "outputs": [
        {
          "output_type": "stream",
          "name": "stdout",
          "text": [
            "English shape after model (16, 512)\n",
            "German shape after model (16, 512)\n"
          ]
        }
      ],
      "source": [
        "# Using the Dataset .take(1) method, extract a batch of English data examples from the training Dataset\n",
        "# and test the encoder model by calling it on the English data Tensor,\n",
        "# and print the shape of the resulting Tensor outputs.\n",
        "\n",
        "for english, german in train_dataset.take(1):\n",
        "    r1, r2 = encoder_model(english)\n",
        "    print(f\"English shape after model {r1.shape}\")\n",
        "    print(f\"German shape after model {r2.shape}\")\n",
        "    break"
      ]
    },
    {
      "cell_type": "markdown",
      "metadata": {
        "id": "unnkd1jbrXdV"
      },
      "source": [
        "## 5. Build the decoder network\n",
        "The decoder network follows the schematic diagram below.\n",
        "\n",
        "![Decoder schematic](data/neural_translation_model_decoder.png)"
      ]
    },
    {
      "cell_type": "markdown",
      "metadata": {
        "id": "MiqAR8x0rXdV"
      },
      "source": [
        "You should now build the RNN decoder model.\n",
        "* Using Model subclassing, build the decoder network according to the following spec:\n",
        "    * The initializer should create the following layers:\n",
        "        * An Embedding layer with vocabulary size set to the number of unique German tokens, embedding dimension 128, and set to mask zero values in the input.\n",
        "        * An LSTM layer with 512 units, that returns its hidden and cell states, and also returns sequences.\n",
        "        * A Dense layer with number of units equal to the number of unique German tokens, and no activation function.\n",
        "    * The call method should include the usual `inputs` argument, as well as the additional keyword arguments `hidden_state` and `cell_state`. The default value for these keyword arguments should be `None`.\n",
        "    * The call method should pass the inputs through the Embedding layer, and then through the LSTM layer. If the `hidden_state` and `cell_state` arguments are provided, these should be used for the initial state of the LSTM layer. _Hint: use the_ `initial_state` _keyword argument when calling the LSTM layer on its input._\n",
        "    * The call method should pass the LSTM output sequence through the Dense layer, and return the resulting Tensor, along with the hidden and cell states of the LSTM layer.\n",
        "* Using the Dataset `.take(1)` method, extract a batch of English and German data examples from the training Dataset. Test the decoder model by first calling the encoder model on the English data Tensor to get the hidden and cell states, and then call the decoder model on the German data Tensor and hidden and cell states, and print the shape of the resulting decoder Tensor outputs.\n",
        "* Print the model summary for the decoder network."
      ]
    },
    {
      "cell_type": "code",
      "execution_count": 101,
      "metadata": {
        "id": "pqBkP-HIrXdW",
        "outputId": "bfcb17bd-eac6-4ea5-f4e2-e10a63d3057b",
        "colab": {
          "base_uri": "https://localhost:8080/"
        }
      },
      "outputs": [
        {
          "output_type": "stream",
          "name": "stderr",
          "text": [
            "/usr/local/lib/python3.10/dist-packages/keras/src/layers/layer.py:372: UserWarning: `build()` was called on layer 'decoder_2', however the layer does not have a `build()` method implemented and it looks like it has unbuilt state. This will cause the layer to be marked as built, despite not being actually built, which may cause failures down the line. Make sure to implement a proper `build()` method.\n",
            "  warnings.warn(\n"
          ]
        }
      ],
      "source": [
        "unique_tokens = len(tokenizer.word_index) + 1\n",
        "\n",
        "class Decoder(Model):\n",
        "    def __init__(self, unique_tokens, **kwargs):\n",
        "        super(Decoder, self).__init__(**kwargs)\n",
        "        self.embedding = Embedding(input_dim=unique_tokens, output_dim=128, mask_zero=True)\n",
        "        self.lstm = LSTM(512, return_sequences=True, return_state=True)\n",
        "        self.dense = Dense(unique_tokens)\n",
        "\n",
        "    def call(self, inputs, hidden_state=None, cell_state=None):\n",
        "        x = self.embedding(inputs)\n",
        "        if hidden_state is not None and cell_state is not None:\n",
        "            x, hidden, cell = self.lstm(x, initial_state=[hidden_state, cell_state])\n",
        "        else:\n",
        "            x, hidden, cell = self.lstm(x)\n",
        "        x = self.dense(x)\n",
        "        return x, hidden, cell\n",
        "\n",
        "decoder_model = Decoder(unique_tokens)\n",
        "decoder_model.build((16, 12))"
      ]
    },
    {
      "cell_type": "code",
      "execution_count": 102,
      "metadata": {
        "id": "0L0EUSc8rXda",
        "outputId": "62722635-1f84-46c3-82a2-d5b41ebe98cd",
        "colab": {
          "base_uri": "https://localhost:8080/",
          "height": 293
        }
      },
      "outputs": [
        {
          "output_type": "stream",
          "name": "stdout",
          "text": [
            "hidden shape after encoder_model (16, 512)\n",
            "cell shape after encoder_model (16, 512)\n",
            "Decoder shape after decoder_model (16, 11, 2235)\n"
          ]
        },
        {
          "output_type": "display_data",
          "data": {
            "text/plain": [
              "\u001b[1mModel: \"decoder_2\"\u001b[0m\n"
            ],
            "text/html": [
              "<pre style=\"white-space:pre;overflow-x:auto;line-height:normal;font-family:Menlo,'DejaVu Sans Mono',consolas,'Courier New',monospace\"><span style=\"font-weight: bold\">Model: \"decoder_2\"</span>\n",
              "</pre>\n"
            ]
          },
          "metadata": {}
        },
        {
          "output_type": "display_data",
          "data": {
            "text/plain": [
              "┏━━━━━━━━━━━━━━━━━━━━━━━━━━━━━━━━━━━━━━┳━━━━━━━━━━━━━━━━━━━━━━━━━━━━━┳━━━━━━━━━━━━━━━━━┓\n",
              "┃\u001b[1m \u001b[0m\u001b[1mLayer (type)                        \u001b[0m\u001b[1m \u001b[0m┃\u001b[1m \u001b[0m\u001b[1mOutput Shape               \u001b[0m\u001b[1m \u001b[0m┃\u001b[1m \u001b[0m\u001b[1m        Param #\u001b[0m\u001b[1m \u001b[0m┃\n",
              "┡━━━━━━━━━━━━━━━━━━━━━━━━━━━━━━━━━━━━━━╇━━━━━━━━━━━━━━━━━━━━━━━━━━━━━╇━━━━━━━━━━━━━━━━━┩\n",
              "│ embedding_2 (\u001b[38;5;33mEmbedding\u001b[0m)              │ (\u001b[38;5;34m16\u001b[0m, \u001b[38;5;34m11\u001b[0m, \u001b[38;5;34m128\u001b[0m)               │         \u001b[38;5;34m286,080\u001b[0m │\n",
              "├──────────────────────────────────────┼─────────────────────────────┼─────────────────┤\n",
              "│ lstm_5 (\u001b[38;5;33mLSTM\u001b[0m)                        │ ((\u001b[38;5;34m16\u001b[0m, \u001b[38;5;34m11\u001b[0m, \u001b[38;5;34m512\u001b[0m), (\u001b[38;5;34m16\u001b[0m, \u001b[38;5;34m512\u001b[0m),  │       \u001b[38;5;34m1,312,768\u001b[0m │\n",
              "│                                      │ (\u001b[38;5;34m16\u001b[0m, \u001b[38;5;34m512\u001b[0m))                  │                 │\n",
              "├──────────────────────────────────────┼─────────────────────────────┼─────────────────┤\n",
              "│ dense_2 (\u001b[38;5;33mDense\u001b[0m)                      │ (\u001b[38;5;34m16\u001b[0m, \u001b[38;5;34m11\u001b[0m, \u001b[38;5;34m2235\u001b[0m)              │       \u001b[38;5;34m1,146,555\u001b[0m │\n",
              "└──────────────────────────────────────┴─────────────────────────────┴─────────────────┘\n"
            ],
            "text/html": [
              "<pre style=\"white-space:pre;overflow-x:auto;line-height:normal;font-family:Menlo,'DejaVu Sans Mono',consolas,'Courier New',monospace\">┏━━━━━━━━━━━━━━━━━━━━━━━━━━━━━━━━━━━━━━┳━━━━━━━━━━━━━━━━━━━━━━━━━━━━━┳━━━━━━━━━━━━━━━━━┓\n",
              "┃<span style=\"font-weight: bold\"> Layer (type)                         </span>┃<span style=\"font-weight: bold\"> Output Shape                </span>┃<span style=\"font-weight: bold\">         Param # </span>┃\n",
              "┡━━━━━━━━━━━━━━━━━━━━━━━━━━━━━━━━━━━━━━╇━━━━━━━━━━━━━━━━━━━━━━━━━━━━━╇━━━━━━━━━━━━━━━━━┩\n",
              "│ embedding_2 (<span style=\"color: #0087ff; text-decoration-color: #0087ff\">Embedding</span>)              │ (<span style=\"color: #00af00; text-decoration-color: #00af00\">16</span>, <span style=\"color: #00af00; text-decoration-color: #00af00\">11</span>, <span style=\"color: #00af00; text-decoration-color: #00af00\">128</span>)               │         <span style=\"color: #00af00; text-decoration-color: #00af00\">286,080</span> │\n",
              "├──────────────────────────────────────┼─────────────────────────────┼─────────────────┤\n",
              "│ lstm_5 (<span style=\"color: #0087ff; text-decoration-color: #0087ff\">LSTM</span>)                        │ ((<span style=\"color: #00af00; text-decoration-color: #00af00\">16</span>, <span style=\"color: #00af00; text-decoration-color: #00af00\">11</span>, <span style=\"color: #00af00; text-decoration-color: #00af00\">512</span>), (<span style=\"color: #00af00; text-decoration-color: #00af00\">16</span>, <span style=\"color: #00af00; text-decoration-color: #00af00\">512</span>),  │       <span style=\"color: #00af00; text-decoration-color: #00af00\">1,312,768</span> │\n",
              "│                                      │ (<span style=\"color: #00af00; text-decoration-color: #00af00\">16</span>, <span style=\"color: #00af00; text-decoration-color: #00af00\">512</span>))                  │                 │\n",
              "├──────────────────────────────────────┼─────────────────────────────┼─────────────────┤\n",
              "│ dense_2 (<span style=\"color: #0087ff; text-decoration-color: #0087ff\">Dense</span>)                      │ (<span style=\"color: #00af00; text-decoration-color: #00af00\">16</span>, <span style=\"color: #00af00; text-decoration-color: #00af00\">11</span>, <span style=\"color: #00af00; text-decoration-color: #00af00\">2235</span>)              │       <span style=\"color: #00af00; text-decoration-color: #00af00\">1,146,555</span> │\n",
              "└──────────────────────────────────────┴─────────────────────────────┴─────────────────┘\n",
              "</pre>\n"
            ]
          },
          "metadata": {}
        },
        {
          "output_type": "display_data",
          "data": {
            "text/plain": [
              "\u001b[1m Total params: \u001b[0m\u001b[38;5;34m2,745,403\u001b[0m (10.47 MB)\n"
            ],
            "text/html": [
              "<pre style=\"white-space:pre;overflow-x:auto;line-height:normal;font-family:Menlo,'DejaVu Sans Mono',consolas,'Courier New',monospace\"><span style=\"font-weight: bold\"> Total params: </span><span style=\"color: #00af00; text-decoration-color: #00af00\">2,745,403</span> (10.47 MB)\n",
              "</pre>\n"
            ]
          },
          "metadata": {}
        },
        {
          "output_type": "display_data",
          "data": {
            "text/plain": [
              "\u001b[1m Trainable params: \u001b[0m\u001b[38;5;34m2,745,403\u001b[0m (10.47 MB)\n"
            ],
            "text/html": [
              "<pre style=\"white-space:pre;overflow-x:auto;line-height:normal;font-family:Menlo,'DejaVu Sans Mono',consolas,'Courier New',monospace\"><span style=\"font-weight: bold\"> Trainable params: </span><span style=\"color: #00af00; text-decoration-color: #00af00\">2,745,403</span> (10.47 MB)\n",
              "</pre>\n"
            ]
          },
          "metadata": {}
        },
        {
          "output_type": "display_data",
          "data": {
            "text/plain": [
              "\u001b[1m Non-trainable params: \u001b[0m\u001b[38;5;34m0\u001b[0m (0.00 B)\n"
            ],
            "text/html": [
              "<pre style=\"white-space:pre;overflow-x:auto;line-height:normal;font-family:Menlo,'DejaVu Sans Mono',consolas,'Courier New',monospace\"><span style=\"font-weight: bold\"> Non-trainable params: </span><span style=\"color: #00af00; text-decoration-color: #00af00\">0</span> (0.00 B)\n",
              "</pre>\n"
            ]
          },
          "metadata": {}
        }
      ],
      "source": [
        "for english, german in train_dataset.take(1):\n",
        "    r1, r2 = encoder_model(english)\n",
        "    print(f\"hidden shape after encoder_model {r1.shape}\")\n",
        "    print(f\"cell shape after encoder_model {r2.shape}\")\n",
        "\n",
        "    r1, _, _ = decoder_model(german, r1, r2)\n",
        "    print(f\"Decoder shape after decoder_model {r1.shape}\")\n",
        "    break\n",
        "\n",
        "decoder_model.summary()"
      ]
    },
    {
      "cell_type": "markdown",
      "metadata": {
        "id": "UqeGDLtZrXda"
      },
      "source": [
        "## 6. Make a custom training loop\n",
        "You should now write a custom training loop to train your custom neural translation model.\n",
        "* Define a function that takes a Tensor batch of German data (as extracted from the training Dataset), and returns a tuple containing German inputs and outputs for the decoder model (refer to schematic diagram above).\n",
        "* Define a function that computes the forward and backward pass for your translation model. This function should take an English input, German input and German output as arguments, and should do the following:\n",
        "    * Pass the English input into the encoder, to get the hidden and cell states of the encoder LSTM.\n",
        "    * These hidden and cell states are then passed into the decoder, along with the German inputs, which returns a sequence of outputs (the hidden and cell state outputs of the decoder LSTM are unused in this function).\n",
        "    * The loss should then be computed between the decoder outputs and the German output function argument.\n",
        "    * The function returns the loss and gradients with respect to the encoder and decoder’s trainable variables.\n",
        "    * Decorate the function with @tf.function\n",
        "* Define and run a custom training loop for a number of epochs (for you to choose) that does the following:\n",
        "    * Iterates through the training dataset, and creates decoder inputs and outputs from the German sequences.\n",
        "    * Updates the parameters of the translation model using the gradients of the function above and an optimizer object.\n",
        "    * Every epoch, compute the validation loss on a number of batches from the validation and save the epoch training and validation losses.\n",
        "* Plot the learning curves for loss vs epoch for both training and validation sets.\n",
        "\n",
        "_Hint: This model is computationally demanding to train. The quality of the model or length of training is not a factor in the grading rubric. However, to obtain a better model we recommend using the GPU accelerator hardware on Colab._"
      ]
    },
    {
      "cell_type": "code",
      "execution_count": 103,
      "metadata": {
        "id": "iYd4vBLsrXdb"
      },
      "outputs": [],
      "source": [
        "# Define a function that takes a Tensor batch of German data (as extracted from the training Dataset),\n",
        "# and returns a tuple containing German inputs and outputs for the decoder model (refer to schematic diagram above).\n",
        "\n",
        "def german_io(german):\n",
        "    input_data = german[:, 0:tf.shape(german)[1]-1]\n",
        "    output_data = german[:, 1:tf.shape(german)[1]]\n",
        "    return (input_data, output_data)"
      ]
    },
    {
      "cell_type": "code",
      "execution_count": 104,
      "metadata": {
        "id": "hhGOfvQbrXdb"
      },
      "outputs": [],
      "source": [
        "# Define a function that computes the forward and backward pass for your translation model. This function should take an English input, German input and German output as arguments, and should do the following:\n",
        "## Pass the English input into the encoder, to get the hidden and cell states of the encoder LSTM.\n",
        "## These hidden and cell states are then passed into the decoder, along with the German inputs, which returns a sequence of outputs (the hidden and cell state outputs of the decoder LSTM are unused in this function).\n",
        "## The loss should then be computed between the decoder outputs and the German output function argument.\n",
        "## The function returns the loss and gradients with respect to the encoder and decoder’s trainable variables.\n",
        "## Decorate the function with @tf.function\n",
        "\n",
        "loss_object = tf.keras.losses.SparseCategoricalCrossentropy(from_logits=True)\n",
        "optimizer = tf.keras.optimizers.Adam(learning_rate=0.001)\n",
        "\n",
        "@tf.function\n",
        "def fb_passes(english, german_input, german_output):\n",
        "    with tf.GradientTape() as tape:\n",
        "        hidden_state, cell_state = encoder_model(english)\n",
        "        dense_output, _, _ = decoder_model(german_input, hidden_state, cell_state)\n",
        "\n",
        "        loss = tf.math.reduce_mean(loss_object(german_output, dense_output))\n",
        "        trainable_variables = encoder_model.trainable_variables + decoder_model.trainable_variables\n",
        "        gradients = tape.gradient(loss, trainable_variables)\n",
        "    return loss, gradients"
      ]
    },
    {
      "cell_type": "code",
      "execution_count": 105,
      "metadata": {
        "id": "_68zPuWqrXdb"
      },
      "outputs": [],
      "source": [
        "# Define and run a custom training loop for a number of epochs (for you to choose) that does the following:\n",
        "# Iterates through the training dataset, and creates decoder inputs and outputs from the German sequences.\n",
        "# Updates the parameters of the translation model using the gradients of the function above and an optimizer object.\n",
        "# Every epoch, compute the validation loss on a number of batches from the validation and save the epoch training and validation losses.\n",
        "\n",
        "def train(epochs=9):\n",
        "\n",
        "    train_loss_results = []\n",
        "    val_loss_results = []\n",
        "\n",
        "    for epoch in range(epochs):\n",
        "        epoch_loss = 0\n",
        "        batch = 0\n",
        "\n",
        "        epoch_loss_avg_train = tf.keras.metrics.Mean()\n",
        "        epoch_loss_avg = tf.keras.metrics.Mean()\n",
        "\n",
        "\n",
        "        # Training loop\n",
        "        for english_input, german_sequence in train_dataset:\n",
        "            german_input, german_output = german_io(german_sequence)\n",
        "            loss_train, gradients = fb_passes(english_input, german_input, german_output)\n",
        "            #epoch_loss += loss_train\n",
        "            #batch += 1\n",
        "\n",
        "\n",
        "\n",
        "            optimizer.apply_gradients(zip(gradients,\n",
        "                                          encoder_model.trainable_variables +\n",
        "                                          decoder_model.trainable_variables))\n",
        "            #epoch_avg_loss = epoch_loss / batch\n",
        "            #train_loss_results.append(loss_train)\n",
        "            epoch_loss_avg_train(loss_train)\n",
        "\n",
        "\n",
        "        epoch_loss = 0\n",
        "        batch = 0\n",
        "\n",
        "        # Validation loop\n",
        "        for english_input, german_sequence in val_dataset:\n",
        "            german_input, german_output = german_io(german_sequence)\n",
        "            loss, _ = fb_passes(english_input, german_input, german_output)\n",
        "            #epoch_loss += loss\n",
        "            #batch += 1\n",
        "\n",
        "            #epoch_avg_val_loss = epoch_loss / batch\n",
        "            #val_loss_results.append(loss)\n",
        "            epoch_loss_avg(loss)\n",
        "\n",
        "        print(\"Epoch {:02d}: Avg. training loss = {:.6f}, Avg. validation loss = {:.6f} \".format(epoch,\n",
        "                                                                                                 epoch_loss_avg_train.result(),\n",
        "                                                                                                 epoch_loss_avg.result()))\n",
        "        train_loss_results.append(epoch_loss_avg_train.result())\n",
        "        val_loss_results.append(epoch_loss_avg.result())\n",
        "\n",
        "    return train_loss_results, val_loss_results"
      ]
    },
    {
      "cell_type": "code",
      "execution_count": 106,
      "metadata": {
        "id": "FJdViWwGrXdb",
        "outputId": "4f6b59fa-eef9-496a-85da-2dfa32744a6c",
        "colab": {
          "base_uri": "https://localhost:8080/"
        }
      },
      "outputs": [
        {
          "output_type": "stream",
          "name": "stdout",
          "text": [
            "Epoch 00: Avg. training loss = 3.333947, Avg. validation loss = 2.974573 \n",
            "Epoch 01: Avg. training loss = 2.701977, Avg. validation loss = 2.775671 \n",
            "Epoch 02: Avg. training loss = 2.449995, Avg. validation loss = 2.721727 \n",
            "Epoch 03: Avg. training loss = 2.266617, Avg. validation loss = 2.706872 \n",
            "Epoch 04: Avg. training loss = 2.090916, Avg. validation loss = 2.642876 \n",
            "Epoch 05: Avg. training loss = 1.903592, Avg. validation loss = 2.600928 \n",
            "Epoch 06: Avg. training loss = 1.728980, Avg. validation loss = 2.532535 \n",
            "Epoch 07: Avg. training loss = 1.573200, Avg. validation loss = 2.520372 \n",
            "Epoch 08: Avg. training loss = 1.448449, Avg. validation loss = 2.524906 \n"
          ]
        }
      ],
      "source": [
        "train_loss_results, val_loss_results = train()"
      ]
    },
    {
      "cell_type": "code",
      "execution_count": 107,
      "metadata": {
        "id": "KZ5RKLdWrXdc",
        "colab": {
          "base_uri": "https://localhost:8080/",
          "height": 907
        },
        "outputId": "58437804-7afa-4b73-fb0c-6d3cca540a62"
      },
      "outputs": [
        {
          "output_type": "stream",
          "name": "stdout",
          "text": [
            "9\n",
            "9\n"
          ]
        },
        {
          "output_type": "display_data",
          "data": {
            "text/plain": [
              "<Figure size 1000x1000 with 1 Axes>"
            ],
            "image/png": "[encoded data removed]"
          },
          "metadata": {}
        }
      ],
      "source": [
        "from prettytable import PrettyTable\n",
        "import matplotlib.pyplot as plt\n",
        "%matplotlib inline\n",
        "\n",
        "print(len(train_loss_results))\n",
        "print(len(val_loss_results))\n",
        "\n",
        "fig = plt.figure(figsize = (10, 10))\n",
        "ax = fig.add_subplot(1,1,1)\n",
        "ax.plot(train_loss_results, label=\"Training\")\n",
        "ax.plot(val_loss_results, label=\"Validation\")\n",
        "ax.legend(loc='best')\n",
        "ax.set_title(\"Loss vs Epoch\")\n",
        "ax.set_xlabel(\"Epoch number\")\n",
        "ax.set_ylabel(\"Avg. loss\")\n",
        "\n",
        "fig.show()"
      ]
    },
    {
      "cell_type": "markdown",
      "metadata": {
        "id": "teSKnrcLrXdc"
      },
      "source": [
        "## 7. Use the model to translate\n",
        "Now it's time to put your model into practice! You should run your translation for five randomly sampled English sentences from the dataset. For each sentence, the process is as follows:\n",
        "* Preprocess and embed the English sentence according to the model requirements.\n",
        "* Pass the embedded sentence through the encoder to get the encoder hidden and cell states.\n",
        "* Starting with the special  `\"<start>\"` token, use this token and the final encoder hidden and cell states to get the one-step prediction from the decoder, as well as the decoder’s updated hidden and cell states.\n",
        "* Create a loop to get the next step prediction and updated hidden and cell states from the decoder, using the most recent hidden and cell states. Terminate the loop when the `\"<end>\"` token is emitted, or when the sentence has reached a maximum length.\n",
        "* Decode the output token sequence into German text and print the English text and the model's German translation."
      ]
    },
    {
      "cell_type": "code",
      "execution_count": 108,
      "metadata": {
        "id": "MzWq7nL2rXdc"
      },
      "outputs": [],
      "source": [
        "random_ind = np.random.choice(5000, 5)\n",
        "examples = []\n",
        "for ind in random_ind:\n",
        "    examples.append(data_examples[ind])\n",
        "english_sentences = [sentence.split('\\t')[0] for sentence in examples]\n",
        "processed_english = []\n",
        "for sentence in english_sentences:\n",
        "    processed_english.append(preprocess_sentence(sentence))"
      ]
    },
    {
      "cell_type": "code",
      "execution_count": 109,
      "metadata": {
        "id": "2o6zeVvCrXdc",
        "colab": {
          "base_uri": "https://localhost:8080/"
        },
        "outputId": "cfd90420-0bd0-42b9-bf5c-e5a523f2c628"
      },
      "outputs": [
        {
          "output_type": "stream",
          "name": "stdout",
          "text": [
            "['I was tired.', 'er ist ein hammertyp .']\n",
            "[\"We're safe.\", 'bist du naechste .']\n",
            "[\"I'm freezing.\", 'er ist laestig .']\n",
            "[\"I'm upset.\", 'ich bin ruiniert .']\n",
            "['Write me.', 'er ist gestorben .']\n"
          ]
        }
      ],
      "source": [
        "start = tokenizer.word_index['<start>']\n",
        "end = tokenizer.word_index['<end>']\n",
        "examples_tokens = []\n",
        "for p_english in processed_english:\n",
        "    english = tf.strings.split(p_english,sep = \" \")\n",
        "    english = embedding_layer(english)\n",
        "    english = tf.pad(english, [[13-len(english), 0], [0, 0]], constant_values = 0)\n",
        "    english = tf.expand_dims(english, 0)\n",
        "    hidden_state, cell_state = encoder_model(english)\n",
        "    translated_tokens = []\n",
        "    tf_token = tf.Variable([[start]])\n",
        "    while True:\n",
        "        output_1,hidden_state, cell_state = decoder_model(tf_token, hidden_state, cell_state)\n",
        "        output_2 = tf.argmax(output_1, 2).numpy()[0,0]\n",
        "        tf_token = tf.Variable([[output_2]])\n",
        "        if output_2 == end:\n",
        "            break\n",
        "        else:\n",
        "            translated_tokens.append(output_2)\n",
        "    examples_tokens.append(translated_tokens)\n",
        "\n",
        "inv_german_index = {value:key for key,value in tokenizer.word_index.items()}\n",
        "german_sentences = []\n",
        "for example_token in examples_tokens:\n",
        "    output_words = []\n",
        "    for token in example_token:\n",
        "        output_words.append(inv_german_index[token])\n",
        "    output = \" \".join(output_words)\n",
        "    german_sentences.append(output)\n",
        "for english, german in zip(english_sentences,german_sentences):\n",
        "  print([english, german])"
      ]
    }
  ],
  "metadata": {
    "kernelspec": {
      "display_name": "Python 3",
      "name": "python3"
    },
    "language_info": {
      "codemirror_mode": {
        "name": "ipython",
        "version": 3
      },
      "file_extension": ".py",
      "mimetype": "text/x-python",
      "name": "python",
      "nbconvert_exporter": "python",
      "pygments_lexer": "ipython3",
      "version": "3.7.1"
    },
    "colab": {
      "provenance": [],
      "gpuType": "T4"
    },
    "accelerator": "GPU"
  },
  "nbformat": 4,
  "nbformat_minor": 0
}