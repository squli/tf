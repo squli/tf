{
 "cells": [
  {
   "cell_type": "markdown",
   "metadata": {},
   "source": [
    "# Capstone Project\n",
    "## Image classifier for the SVHN dataset\n",
    "### Instructions\n",
    "\n",
    "In this notebook, you will create a neural network that classifies real-world images digits. You will use concepts from throughout this course in building, training, testing, validating and saving your Tensorflow classifier model.\n",
    "\n",
    "This project is peer-assessed. Within this notebook you will find instructions in each section for how to complete the project. Pay close attention to the instructions as the peer review will be carried out according to a grading rubric that checks key parts of the project instructions. Feel free to add extra cells into the notebook as required.\n",
    "\n",
    "### How to submit\n",
    "\n",
    "When you have completed the Capstone project notebook, you will submit a pdf of the notebook for peer review. First ensure that the notebook has been fully executed from beginning to end, and all of the cell outputs are visible. This is important, as the grading rubric depends on the reviewer being able to view the outputs of your notebook. Save the notebook as a pdf (File -> Download as -> PDF via LaTeX). You should then submit this pdf for review.\n",
    "\n",
    "### Let's get started!\n",
    "\n",
    "We'll start by running some imports, and loading the dataset. For this project you are free to make further imports throughout the notebook as you wish. "
   ]
  },
  {
   "cell_type": "code",
   "execution_count": 1,
   "metadata": {},
   "outputs": [],
   "source": [
    "import tensorflow as tf\n",
    "from scipy.io import loadmat\n",
    "\n",
    "\n",
    "from tensorflow.keras.models import Sequential\n",
    "from tensorflow.keras.layers import Flatten, Dense, Conv2D, MaxPooling2D\n",
    "\n",
    "%matplotlib inline\n",
    "import matplotlib.pyplot as plt"
   ]
  },
  {
   "cell_type": "markdown",
   "metadata": {},
   "source": [
    "![SVHN overview image](data/svhn_examples.jpg)\n",
    "For the capstone project, you will use the [SVHN dataset](http://ufldl.stanford.edu/housenumbers/). This is an  image dataset of over 600,000 digit images in all, and is a harder dataset than MNIST as the numbers appear in the context of natural scene images. SVHN is obtained from house numbers in Google Street View images. \n",
    "\n",
    "* Y. Netzer, T. Wang, A. Coates, A. Bissacco, B. Wu and A. Y. Ng. \"Reading Digits in Natural Images with Unsupervised Feature Learning\". NIPS Workshop on Deep Learning and Unsupervised Feature Learning, 2011.\n",
    "\n",
    "Your goal is to develop an end-to-end workflow for building, training, validating, evaluating and saving a neural network that classifies a real-world image into one of ten classes."
   ]
  },
  {
   "cell_type": "code",
   "execution_count": 2,
   "metadata": {},
   "outputs": [],
   "source": [
    "# Run this cell to load the dataset\n",
    "\n",
    "train = loadmat('data/train_32x32.mat')\n",
    "test = loadmat('data/test_32x32.mat')"
   ]
  },
  {
   "cell_type": "markdown",
   "metadata": {},
   "source": [
    "Both `train` and `test` are dictionaries with keys `X` and `y` for the input images and labels respectively."
   ]
  },
  {
   "cell_type": "markdown",
   "metadata": {},
   "source": [
    "## 1. Inspect and preprocess the dataset\n",
    "* Extract the training and testing images and labels separately from the train and test dictionaries loaded for you.\n",
    "* Select a random sample of images and corresponding labels from the dataset (at least 10), and display them in a figure.\n",
    "* Convert the training and test images to grayscale by taking the average across all colour channels for each pixel. _Hint: retain the channel dimension, which will now have size 1._\n",
    "* Select a random sample of the grayscale images and corresponding labels from the dataset (at least 10), and display them in a figure."
   ]
  },
  {
   "cell_type": "code",
   "execution_count": 3,
   "metadata": {},
   "outputs": [],
   "source": [
    "#Extract the training and testing images and labels separately from the train and test dictionaries loaded for you.\n",
    "\n",
    "training_images = train['X']\n",
    "testing_images = test['X']\n",
    "training_labels = train['y']\n",
    "testing_labels = test['y']"
   ]
  },
  {
   "cell_type": "code",
   "execution_count": 4,
   "metadata": {},
   "outputs": [
    {
     "data": {
      "image/png": "[encoded data removed]",
      "text/plain": [
       "<PIL.Image.Image image mode=RGB size=32x32 at 0x7F4462361FD0>"
      ]
     },
     "metadata": {},
     "output_type": "display_data"
    },
    {
     "name": "stdout",
     "output_type": "stream",
     "text": [
      "[2]\n"
     ]
    },
    {
     "data": {
      "image/png": "[encoded data removed]",
      "text/plain": [
       "<PIL.Image.Image image mode=RGB size=32x32 at 0x7F44623590B8>"
      ]
     },
     "metadata": {},
     "output_type": "display_data"
    },
    {
     "name": "stdout",
     "output_type": "stream",
     "text": [
      "[1]\n"
     ]
    },
    {
     "data": {
      "image/png": "[encoded data removed]",
      "text/plain": [
       "<PIL.Image.Image image mode=RGB size=32x32 at 0x7F4462359240>"
      ]
     },
     "metadata": {},
     "output_type": "display_data"
    },
    {
     "name": "stdout",
     "output_type": "stream",
     "text": [
      "[4]\n"
     ]
    },
    {
     "data": {
      "image/png": "[encoded data removed]",
      "text/plain": [
       "<PIL.Image.Image image mode=RGB size=32x32 at 0x7F44623592B0>"
      ]
     },
     "metadata": {},
     "output_type": "display_data"
    },
    {
     "name": "stdout",
     "output_type": "stream",
     "text": [
      "[7]\n"
     ]
    },
    {
     "data": {
      "image/png": "[encoded data removed]",
      "text/plain": [
       "<PIL.Image.Image image mode=RGB size=32x32 at 0x7F4462359320>"
      ]
     },
     "metadata": {},
     "output_type": "display_data"
    },
    {
     "name": "stdout",
     "output_type": "stream",
     "text": [
      "[4]\n"
     ]
    },
    {
     "data": {
      "image/png": "[encoded data removed]",
      "text/plain": [
       "<PIL.Image.Image image mode=RGB size=32x32 at 0x7F4462359390>"
      ]
     },
     "metadata": {},
     "output_type": "display_data"
    },
    {
     "name": "stdout",
     "output_type": "stream",
     "text": [
      "[1]\n"
     ]
    },
    {
     "data": {
      "image/png": "[encoded data removed]",
      "text/plain": [
       "<PIL.Image.Image image mode=RGB size=32x32 at 0x7F4462359400>"
      ]
     },
     "metadata": {},
     "output_type": "display_data"
    },
    {
     "name": "stdout",
     "output_type": "stream",
     "text": [
      "[1]\n"
     ]
    },
    {
     "data": {
      "image/png": "[encoded data removed]",
      "text/plain": [
       "<PIL.Image.Image image mode=RGB size=32x32 at 0x7F4462359470>"
      ]
     },
     "metadata": {},
     "output_type": "display_data"
    },
    {
     "name": "stdout",
     "output_type": "stream",
     "text": [
      "[7]\n"
     ]
    },
    {
     "data": {
      "image/png": "[encoded data removed]",
      "text/plain": [
       "<PIL.Image.Image image mode=RGB size=32x32 at 0x7F44623594E0>"
      ]
     },
     "metadata": {},
     "output_type": "display_data"
    },
    {
     "name": "stdout",
     "output_type": "stream",
     "text": [
      "[2]\n"
     ]
    },
    {
     "data": {
      "image/png": "[encoded data removed]",
      "text/plain": [
       "<PIL.Image.Image image mode=RGB size=32x32 at 0x7F4462359550>"
      ]
     },
     "metadata": {},
     "output_type": "display_data"
    },
    {
     "name": "stdout",
     "output_type": "stream",
     "text": [
      "[5]\n"
     ]
    }
   ],
   "source": [
    "#Select a random sample of images and corresponding labels from the dataset (at least 10), and display them in a figure.\n",
    "from PIL import Image\n",
    "import random\n",
    "import numpy as np\n",
    "\n",
    "# amount of images to be shown\n",
    "N = 10\n",
    "\n",
    "def show_images(dataset, amount, convert_to=\"RGB\"):   \n",
    "    dataset_size = training_images.shape[-1]\n",
    "    random_indexes = []\n",
    "    for k in range(N):\n",
    "        random_indexes.append(random.randrange(dataset_size))\n",
    "\n",
    "    random_imgaes_labels = []\n",
    "    for k in random_indexes:    \n",
    "        img = Image.fromarray(dataset[..., k]).convert(convert_to)\n",
    "        label = training_labels[k]\n",
    "        random_imgaes_labels.append((img, label))\n",
    "\n",
    "    for img, label in random_imgaes_labels:\n",
    "        display(img)\n",
    "        print(label)\n",
    "        \n",
    "show_images(training_images, N)"
   ]
  },
  {
   "cell_type": "code",
   "execution_count": 5,
   "metadata": {},
   "outputs": [],
   "source": [
    "# Convert the training and test images to grayscale by taking the average across all colour channels for each pixel. \n",
    "# Hint: retain the channel dimension, which will now have size 1.\n",
    "def convert_image_to_grayscale(imgs):\n",
    "    new_dataset = np.empty((imgs.shape[-1], 32, 32))\n",
    "    for k in range(imgs.shape[-1]):\n",
    "        r = imgs[..., 0, k]\n",
    "        g = imgs[..., 1, k]\n",
    "        b = imgs[..., 2, k]\n",
    "        \n",
    "        gray_channel = np.mean( np.array([ r, g, b ]), axis=0 )\n",
    "        gray_channel_int = gray_channel.astype(np.uint8)       \n",
    "        new_dataset[k] = (gray_channel_int)\n",
    "    \n",
    "    return new_dataset\n",
    "\n",
    "def show_gray_images(dataset, N, convert_to=\"RGB\"):   \n",
    "    dataset_size = training_images.shape[0]\n",
    "    random_indexes = []\n",
    "    for k in range(N):\n",
    "        random_indexes.append(random.randrange(dataset_size))\n",
    "\n",
    "    random_imgaes_labels = []\n",
    "    for k in random_indexes:    \n",
    "        img = Image.fromarray(dataset[k, ...]).convert(convert_to)\n",
    "        label = training_labels[k]\n",
    "        random_imgaes_labels.append((img, label))\n",
    "\n",
    "    for img, label in random_imgaes_labels:\n",
    "        display(img)\n",
    "        print(label)\n",
    "\n",
    "training_images_gray = convert_image_to_grayscale(training_images)\n",
    "testing_images_gray = convert_image_to_grayscale(testing_images)"
   ]
  },
  {
   "cell_type": "code",
   "execution_count": 6,
   "metadata": {},
   "outputs": [
    {
     "data": {
      "image/png": "[encoded data removed]",
      "text/plain": [
       "<PIL.Image.Image image mode=P size=32x32 at 0x7F4450003780>"
      ]
     },
     "metadata": {},
     "output_type": "display_data"
    },
    {
     "name": "stdout",
     "output_type": "stream",
     "text": [
      "[1]\n"
     ]
    },
    {
     "data": {
      "image/png": "[encoded data removed]",
      "text/plain": [
       "<PIL.Image.Image image mode=P size=32x32 at 0x7F4520E8C9E8>"
      ]
     },
     "metadata": {},
     "output_type": "display_data"
    },
    {
     "name": "stdout",
     "output_type": "stream",
     "text": [
      "[3]\n"
     ]
    },
    {
     "data": {
      "image/png": "[encoded data removed]",
      "text/plain": [
       "<PIL.Image.Image image mode=P size=32x32 at 0x7F4450003710>"
      ]
     },
     "metadata": {},
     "output_type": "display_data"
    },
    {
     "name": "stdout",
     "output_type": "stream",
     "text": [
      "[6]\n"
     ]
    },
    {
     "data": {
      "image/png": "[encoded data removed]",
      "text/plain": [
       "<PIL.Image.Image image mode=P size=32x32 at 0x7F44500038D0>"
      ]
     },
     "metadata": {},
     "output_type": "display_data"
    },
    {
     "name": "stdout",
     "output_type": "stream",
     "text": [
      "[2]\n"
     ]
    },
    {
     "data": {
      "image/png": "[encoded data removed]",
      "text/plain": [
       "<PIL.Image.Image image mode=P size=32x32 at 0x7F4462368080>"
      ]
     },
     "metadata": {},
     "output_type": "display_data"
    },
    {
     "name": "stdout",
     "output_type": "stream",
     "text": [
      "[3]\n"
     ]
    },
    {
     "data": {
      "image/png": "[encoded data removed]",
      "text/plain": [
       "<PIL.Image.Image image mode=P size=32x32 at 0x7F4450003898>"
      ]
     },
     "metadata": {},
     "output_type": "display_data"
    },
    {
     "name": "stdout",
     "output_type": "stream",
     "text": [
      "[3]\n"
     ]
    },
    {
     "data": {
      "image/png": "[encoded data removed]",
      "text/plain": [
       "<PIL.Image.Image image mode=P size=32x32 at 0x7F4450003320>"
      ]
     },
     "metadata": {},
     "output_type": "display_data"
    },
    {
     "name": "stdout",
     "output_type": "stream",
     "text": [
      "[1]\n"
     ]
    },
    {
     "data": {
      "image/png": "[encoded data removed]",
      "text/plain": [
       "<PIL.Image.Image image mode=P size=32x32 at 0x7F4450003B38>"
      ]
     },
     "metadata": {},
     "output_type": "display_data"
    },
    {
     "name": "stdout",
     "output_type": "stream",
     "text": [
      "[3]\n"
     ]
    },
    {
     "data": {
      "image/png": "[encoded data removed]",
      "text/plain": [
       "<PIL.Image.Image image mode=P size=32x32 at 0x7F4450003240>"
      ]
     },
     "metadata": {},
     "output_type": "display_data"
    },
    {
     "name": "stdout",
     "output_type": "stream",
     "text": [
      "[6]\n"
     ]
    },
    {
     "data": {
      "image/png": "[encoded data removed]",
      "text/plain": [
       "<PIL.Image.Image image mode=P size=32x32 at 0x7F4450003A58>"
      ]
     },
     "metadata": {},
     "output_type": "display_data"
    },
    {
     "name": "stdout",
     "output_type": "stream",
     "text": [
      "[2]\n"
     ]
    }
   ],
   "source": [
    "# Select a random sample of the grayscale images and corresponding labels from the dataset (at least 10), and display them in a figure.\n",
    "show_gray_images(training_images_gray, 10, 'P')"
   ]
  },
  {
   "cell_type": "markdown",
   "metadata": {},
   "source": [
    "## 2. MLP neural network classifier\n",
    "* Build an MLP classifier model using the Sequential API. Your model should use only Flatten and Dense layers, with the final layer having a 10-way softmax output. \n",
    "* You should design and build the model yourself. Feel free to experiment with different MLP architectures. _Hint: to achieve a reasonable accuracy you won't need to use more than 4 or 5 layers._\n",
    "* Print out the model summary (using the summary() method)\n",
    "* Compile and train the model (we recommend a maximum of 30 epochs), making use of both training and validation sets during the training run. \n",
    "* Your model should track at least one appropriate metric, and use at least two callbacks during training, one of which should be a ModelCheckpoint callback.\n",
    "* As a guide, you should aim to achieve a final categorical cross entropy training loss of less than 1.0 (the validation loss might be higher).\n",
    "* Plot the learning curves for loss vs epoch and accuracy vs epoch for both training and validation sets.\n",
    "* Compute and display the loss and accuracy of the trained model on the test set."
   ]
  },
  {
   "cell_type": "code",
   "execution_count": 7,
   "metadata": {},
   "outputs": [
    {
     "name": "stdout",
     "output_type": "stream",
     "text": [
      "Model: \"sequential\"\n",
      "_________________________________________________________________\n",
      "Layer (type)                 Output Shape              Param #   \n",
      "=================================================================\n",
      "dense (Dense)                (None, 32, 64)            2112      \n",
      "_________________________________________________________________\n",
      "dense_1 (Dense)              (None, 32, 128)           8320      \n",
      "_________________________________________________________________\n",
      "flatten (Flatten)            (None, 4096)              0         \n",
      "_________________________________________________________________\n",
      "dense_2 (Dense)              (None, 128)               524416    \n",
      "_________________________________________________________________\n",
      "dense_3 (Dense)              (None, 10)                1290      \n",
      "=================================================================\n",
      "Total params: 536,138\n",
      "Trainable params: 536,138\n",
      "Non-trainable params: 0\n",
      "_________________________________________________________________\n",
      "None\n"
     ]
    }
   ],
   "source": [
    "#Build an MLP classifier model using the Sequential API. Your model should use only Flatten and Dense layers, with the final layer having a 10-way softmax output.\n",
    "#You should design and build the model yourself. Feel free to experiment with different MLP architectures. Hint: to achieve a reasonable accuracy you won't need to use more than 4 or 5 layers.\n",
    "#Print out the model summary (using the summary() method)\n",
    "\n",
    "def get_model(input_shape):\n",
    "    weight_decay = 0.001\n",
    "    model = Sequential([\n",
    "        Dense(64, activation=\"relu\", kernel_regularizer=tf.keras.regularizers.l2(weight_decay), input_shape=input_shape),\n",
    "        Dense(128, activation=\"relu\", kernel_regularizer=tf.keras.regularizers.l2(weight_decay)),\n",
    "        Flatten(),\n",
    "        Dense(128, activation=\"relu\", kernel_regularizer=tf.keras.regularizers.l2(weight_decay)),\n",
    "        Dense(10, activation=\"softmax\")\n",
    "    ])\n",
    "        \n",
    "    return model\n",
    "\n",
    "mlp_model = get_model(training_images_gray[0].shape)\n",
    "print(mlp_model.summary())"
   ]
  },
  {
   "cell_type": "code",
   "execution_count": 8,
   "metadata": {},
   "outputs": [],
   "source": [
    "# Your model should track at least one appropriate metric, and use at least two callbacks during training, one of which should be a ModelCheckpoint callback.\n",
    "from tensorflow.keras.callbacks import ModelCheckpoint, EarlyStopping\n",
    "\n",
    "def get_checkpoint_best():\n",
    "    return ModelCheckpoint(filepath=\"checkpoints_best_only/checkpoint_{epoch:03d}\", \n",
    "                           save_freq=\"epoch\", save_weights_only=False, \n",
    "                           monitor=\"val_accuracy\", save_best_only=True, verbose=1)\n",
    "\n",
    "def get_early_stopping():\n",
    "    return EarlyStopping(patience=3, monitor=\"val_accuracy\")\n",
    "\n",
    "checkpoint_best = get_checkpoint_best()\n",
    "early_stopping = get_early_stopping()\n"
   ]
  },
  {
   "cell_type": "code",
   "execution_count": 9,
   "metadata": {},
   "outputs": [
    {
     "name": "stdout",
     "output_type": "stream",
     "text": [
      "Train on 62268 samples, validate on 10989 samples\n",
      "Epoch 1/30\n",
      "62240/62268 [============================>.] - ETA: 0s - loss: 3.0795 - accuracy: 0.3692\n",
      "Epoch 00001: val_accuracy improved from -inf to 0.55610, saving model to checkpoints_best_only/checkpoint_001\n",
      "WARNING:tensorflow:From /opt/conda/lib/python3.7/site-packages/tensorflow_core/python/ops/resource_variable_ops.py:1781: calling BaseResourceVariable.__init__ (from tensorflow.python.ops.resource_variable_ops) with constraint is deprecated and will be removed in a future version.\n",
      "Instructions for updating:\n",
      "If using Keras pass *_constraint arguments to layers.\n",
      "INFO:tensorflow:Assets written to: checkpoints_best_only/checkpoint_001/assets\n",
      "62268/62268 [==============================] - 135s 2ms/sample - loss: 3.0789 - accuracy: 0.3692 - val_loss: 1.5495 - val_accuracy: 0.5561\n",
      "Epoch 2/30\n",
      "62240/62268 [============================>.] - ETA: 0s - loss: 1.3795 - accuracy: 0.6183\n",
      "Epoch 00002: val_accuracy improved from 0.55610 to 0.66275, saving model to checkpoints_best_only/checkpoint_002\n",
      "INFO:tensorflow:Assets written to: checkpoints_best_only/checkpoint_002/assets\n",
      "62268/62268 [==============================] - 117s 2ms/sample - loss: 1.3793 - accuracy: 0.6184 - val_loss: 1.2418 - val_accuracy: 0.6628\n",
      "Epoch 3/30\n",
      "62208/62268 [============================>.] - ETA: 0s - loss: 1.1617 - accuracy: 0.6884\n",
      "Epoch 00003: val_accuracy improved from 0.66275 to 0.70452, saving model to checkpoints_best_only/checkpoint_003\n",
      "INFO:tensorflow:Assets written to: checkpoints_best_only/checkpoint_003/assets\n",
      "62268/62268 [==============================] - 115s 2ms/sample - loss: 1.1620 - accuracy: 0.6885 - val_loss: 1.1003 - val_accuracy: 0.7045\n",
      "Epoch 4/30\n",
      "62240/62268 [============================>.] - ETA: 0s - loss: 1.0534 - accuracy: 0.7182\n",
      "Epoch 00004: val_accuracy did not improve from 0.70452\n",
      "62268/62268 [==============================] - 114s 2ms/sample - loss: 1.0533 - accuracy: 0.7182 - val_loss: 1.1073 - val_accuracy: 0.6956\n",
      "Epoch 5/30\n",
      "62208/62268 [============================>.] - ETA: 0s - loss: 0.9838 - accuracy: 0.7363\n",
      "Epoch 00005: val_accuracy improved from 0.70452 to 0.74129, saving model to checkpoints_best_only/checkpoint_005\n",
      "INFO:tensorflow:Assets written to: checkpoints_best_only/checkpoint_005/assets\n",
      "62268/62268 [==============================] - 117s 2ms/sample - loss: 0.9837 - accuracy: 0.7363 - val_loss: 0.9688 - val_accuracy: 0.7413\n",
      "Epoch 6/30\n",
      "62240/62268 [============================>.] - ETA: 0s - loss: 0.9470 - accuracy: 0.7454\n",
      "Epoch 00006: val_accuracy did not improve from 0.74129\n",
      "62268/62268 [==============================] - 114s 2ms/sample - loss: 0.9471 - accuracy: 0.7455 - val_loss: 1.0076 - val_accuracy: 0.7263\n",
      "Epoch 7/30\n",
      "62240/62268 [============================>.] - ETA: 0s - loss: 0.9213 - accuracy: 0.7531\n",
      "Epoch 00007: val_accuracy improved from 0.74129 to 0.75166, saving model to checkpoints_best_only/checkpoint_007\n",
      "INFO:tensorflow:Assets written to: checkpoints_best_only/checkpoint_007/assets\n",
      "62268/62268 [==============================] - 115s 2ms/sample - loss: 0.9213 - accuracy: 0.7531 - val_loss: 0.9418 - val_accuracy: 0.7517\n",
      "Epoch 8/30\n",
      "62240/62268 [============================>.] - ETA: 0s - loss: 0.9004 - accuracy: 0.7586\n",
      "Epoch 00008: val_accuracy improved from 0.75166 to 0.76012, saving model to checkpoints_best_only/checkpoint_008\n",
      "INFO:tensorflow:Assets written to: checkpoints_best_only/checkpoint_008/assets\n",
      "62268/62268 [==============================] - 116s 2ms/sample - loss: 0.9004 - accuracy: 0.7586 - val_loss: 0.9156 - val_accuracy: 0.7601\n",
      "Epoch 9/30\n",
      "62208/62268 [============================>.] - ETA: 0s - loss: 0.8845 - accuracy: 0.7616\n",
      "Epoch 00009: val_accuracy improved from 0.76012 to 0.76067, saving model to checkpoints_best_only/checkpoint_009\n",
      "INFO:tensorflow:Assets written to: checkpoints_best_only/checkpoint_009/assets\n",
      "62268/62268 [==============================] - 118s 2ms/sample - loss: 0.8842 - accuracy: 0.7616 - val_loss: 0.9092 - val_accuracy: 0.7607\n",
      "Epoch 10/30\n",
      "62240/62268 [============================>.] - ETA: 0s - loss: 0.8713 - accuracy: 0.7662\n",
      "Epoch 00010: val_accuracy improved from 0.76067 to 0.76840, saving model to checkpoints_best_only/checkpoint_010\n",
      "INFO:tensorflow:Assets written to: checkpoints_best_only/checkpoint_010/assets\n",
      "62268/62268 [==============================] - 115s 2ms/sample - loss: 0.8713 - accuracy: 0.7663 - val_loss: 0.8857 - val_accuracy: 0.7684\n",
      "Epoch 11/30\n",
      "62208/62268 [============================>.] - ETA: 0s - loss: 0.8604 - accuracy: 0.7690\n",
      "Epoch 00011: val_accuracy did not improve from 0.76840\n",
      "62268/62268 [==============================] - 114s 2ms/sample - loss: 0.8606 - accuracy: 0.7690 - val_loss: 0.9395 - val_accuracy: 0.7487\n",
      "Epoch 12/30\n",
      "62240/62268 [============================>.] - ETA: 0s - loss: 0.8524 - accuracy: 0.7729\n",
      "Epoch 00012: val_accuracy did not improve from 0.76840\n",
      "62268/62268 [==============================] - 115s 2ms/sample - loss: 0.8523 - accuracy: 0.7729 - val_loss: 0.8957 - val_accuracy: 0.7606\n",
      "Epoch 13/30\n",
      "62208/62268 [============================>.] - ETA: 0s - loss: 0.8439 - accuracy: 0.7760\n",
      "Epoch 00013: val_accuracy did not improve from 0.76840\n",
      "62268/62268 [==============================] - 114s 2ms/sample - loss: 0.8440 - accuracy: 0.7760 - val_loss: 0.8986 - val_accuracy: 0.7595\n"
     ]
    }
   ],
   "source": [
    "# Compile and train the model (we recommend a maximum of 30 epochs), making use of both training and validation sets during the training run.\n",
    "mlp_model.compile(optimizer='adam', loss='sparse_categorical_crossentropy', metrics=['accuracy'])\n",
    "mlp_history = mlp_model.fit(x=training_images_gray, y=training_labels - 1, \n",
    "                        epochs=30, validation_split=0.15, batch_size=32, \n",
    "                        callbacks=[checkpoint_best, early_stopping])\n"
   ]
  },
  {
   "cell_type": "code",
   "execution_count": 21,
   "metadata": {},
   "outputs": [
    {
     "data": {
      "image/png": "[encoded data removed]",
      "text/plain": [
       "<Figure size 432x288 with 1 Axes>"
      ]
     },
     "metadata": {
      "needs_background": "light"
     },
     "output_type": "display_data"
    }
   ],
   "source": [
    "# Plot the learning curves for loss vs epoch and accuracy vs epoch for both training and validation sets.\n",
    "plt.plot(mlp_history.history['accuracy'])\n",
    "plt.plot(mlp_history.history['val_accuracy'])\n",
    "plt.title('Accuracy vs. epochs')\n",
    "plt.ylabel('Accuracy')\n",
    "plt.xlabel('Epoch')\n",
    "plt.legend(['Training', 'Validation'], loc='lower right')\n",
    "plt.show()"
   ]
  },
  {
   "cell_type": "code",
   "execution_count": 20,
   "metadata": {},
   "outputs": [
    {
     "data": {
      "image/png": "[encoded data removed]",
      "text/plain": [
       "<Figure size 432x288 with 1 Axes>"
      ]
     },
     "metadata": {
      "needs_background": "light"
     },
     "output_type": "display_data"
    }
   ],
   "source": [
    "plt.plot(mlp_history.history['loss'])\n",
    "plt.plot(mlp_history.history['val_loss'])\n",
    "plt.title('Loss vs. epochs')\n",
    "plt.ylabel('Loss')\n",
    "plt.xlabel('Epoch')\n",
    "plt.legend(['Training', 'Validation'], loc='lower right')\n",
    "plt.show()"
   ]
  },
  {
   "cell_type": "code",
   "execution_count": 12,
   "metadata": {},
   "outputs": [
    {
     "name": "stdout",
     "output_type": "stream",
     "text": [
      "26032/1 - 12s - loss: 1.0821 - accuracy: 0.7433\n",
      "accuracy: 0.743, loss: 0.996\n"
     ]
    }
   ],
   "source": [
    "# Compute and display the loss and accuracy of the trained model on the test set.\n",
    "def get_test_accuracy(model, x_test, y_test):\n",
    "    test_loss, test_acc = model.evaluate(x=x_test, y=y_test, verbose=2)\n",
    "    print(f'accuracy: {test_acc:0.3f}, loss: {test_loss:0.3f}')\n",
    "\n",
    "get_test_accuracy(mlp_model, testing_images_gray, testing_labels - 1)"
   ]
  },
  {
   "cell_type": "markdown",
   "metadata": {},
   "source": [
    "## 3. CNN neural network classifier\n",
    "* Build a CNN classifier model using the Sequential API. Your model should use the Conv2D, MaxPool2D, BatchNormalization, Flatten, Dense and Dropout layers. The final layer should again have a 10-way softmax output. \n",
    "* You should design and build the model yourself. Feel free to experiment with different CNN architectures. _Hint: to achieve a reasonable accuracy you won't need to use more than 2 or 3 convolutional layers and 2 fully connected layers.)_\n",
    "* The CNN model should use fewer trainable parameters than your MLP model.\n",
    "* Compile and train the model (we recommend a maximum of 30 epochs), making use of both training and validation sets during the training run.\n",
    "* Your model should track at least one appropriate metric, and use at least two callbacks during training, one of which should be a ModelCheckpoint callback.\n",
    "* You should aim to beat the MLP model performance with fewer parameters!\n",
    "* Plot the learning curves for loss vs epoch and accuracy vs epoch for both training and validation sets.\n",
    "* Compute and display the loss and accuracy of the trained model on the test set."
   ]
  },
  {
   "cell_type": "code",
   "execution_count": 13,
   "metadata": {},
   "outputs": [
    {
     "name": "stdout",
     "output_type": "stream",
     "text": [
      "Model: \"sequential_1\"\n",
      "_________________________________________________________________\n",
      "Layer (type)                 Output Shape              Param #   \n",
      "=================================================================\n",
      "conv2d (Conv2D)              (None, 32, 32, 16)        272       \n",
      "_________________________________________________________________\n",
      "conv2d_1 (Conv2D)            (None, 32, 32, 8)         2056      \n",
      "_________________________________________________________________\n",
      "max_pooling2d (MaxPooling2D) (None, 4, 4, 8)           0         \n",
      "_________________________________________________________________\n",
      "flatten_1 (Flatten)          (None, 128)               0         \n",
      "_________________________________________________________________\n",
      "dense_4 (Dense)              (None, 64)                8256      \n",
      "_________________________________________________________________\n",
      "dense_5 (Dense)              (None, 10)                650       \n",
      "=================================================================\n",
      "Total params: 11,234\n",
      "Trainable params: 11,234\n",
      "Non-trainable params: 0\n",
      "_________________________________________________________________\n",
      "None\n"
     ]
    }
   ],
   "source": [
    "#Build a CNN classifier model using the Sequential API. Your model should use the Conv2D, MaxPool2D, BatchNormalization, Flatten, Dense and Dropout layers. The final layer should again have a 10-way softmax output.\n",
    "#You should design and build the model yourself. Feel free to experiment with different CNN architectures. Hint: to achieve a reasonable accuracy you won't need to use more than 2 or 3 convolutional layers and 2 fully connected layers.)\n",
    "#The CNN model should use fewer trainable parameters than your MLP model.\n",
    "\n",
    "def get_cnn_model(input_shape):\n",
    "    model = Sequential([\n",
    "        Conv2D(16, kernel_size=[4,4], padding=\"SAME\", activation=\"relu\", input_shape=input_shape),\n",
    "        Conv2D(8, kernel_size=[4,4], padding=\"SAME\", activation=\"relu\", input_shape=input_shape),\n",
    "        MaxPooling2D([8, 8]),\n",
    "        Flatten(),\n",
    "        Dense(64, activation=\"relu\"),\n",
    "        Dense(10, activation=\"softmax\")\n",
    "    ])\n",
    "        \n",
    "    return model\n",
    "\n",
    "cnn_model = get_cnn_model((32, 32, 1))\n",
    "print(cnn_model.summary())"
   ]
  },
  {
   "cell_type": "code",
   "execution_count": 14,
   "metadata": {},
   "outputs": [],
   "source": [
    "def get_cnn_checkpoint_best():\n",
    "    return ModelCheckpoint(filepath=\"checkpoints_best_only/cnn_checkpoint_{epoch:03d}\", \n",
    "                           save_freq=\"epoch\", save_weights_only=False, \n",
    "                           monitor=\"val_accuracy\", save_best_only=True, verbose=1)\n",
    "\n",
    "cnn_checkpoint_best = get_cnn_checkpoint_best()\n",
    "early_stopping = get_early_stopping()"
   ]
  },
  {
   "cell_type": "code",
   "execution_count": 15,
   "metadata": {},
   "outputs": [
    {
     "name": "stdout",
     "output_type": "stream",
     "text": [
      "Train on 62268 samples, validate on 10989 samples\n",
      "Epoch 1/30\n",
      "62240/62268 [============================>.] - ETA: 0s - loss: 1.7311 - accuracy: 0.4352\n",
      "Epoch 00001: val_accuracy improved from -inf to 0.64173, saving model to checkpoints_best_only/cnn_checkpoint_001\n",
      "INFO:tensorflow:Assets written to: checkpoints_best_only/cnn_checkpoint_001/assets\n",
      "62268/62268 [==============================] - 566s 9ms/sample - loss: 1.7308 - accuracy: 0.4354 - val_loss: 1.1528 - val_accuracy: 0.6417\n",
      "Epoch 2/30\n",
      "62240/62268 [============================>.] - ETA: 0s - loss: 1.0282 - accuracy: 0.6834\n",
      "Epoch 00002: val_accuracy improved from 0.64173 to 0.72327, saving model to checkpoints_best_only/cnn_checkpoint_002\n",
      "INFO:tensorflow:Assets written to: checkpoints_best_only/cnn_checkpoint_002/assets\n",
      "62268/62268 [==============================] - 565s 9ms/sample - loss: 1.0282 - accuracy: 0.6834 - val_loss: 0.9037 - val_accuracy: 0.7233\n",
      "Epoch 3/30\n",
      "62240/62268 [============================>.] - ETA: 0s - loss: 0.8482 - accuracy: 0.7442\n",
      "Epoch 00003: val_accuracy improved from 0.72327 to 0.75603, saving model to checkpoints_best_only/cnn_checkpoint_003\n",
      "INFO:tensorflow:Assets written to: checkpoints_best_only/cnn_checkpoint_003/assets\n",
      "62268/62268 [==============================] - 565s 9ms/sample - loss: 0.8482 - accuracy: 0.7442 - val_loss: 0.8102 - val_accuracy: 0.7560\n",
      "Epoch 4/30\n",
      "62240/62268 [============================>.] - ETA: 0s - loss: 0.7445 - accuracy: 0.7768\n",
      "Epoch 00004: val_accuracy improved from 0.75603 to 0.79707, saving model to checkpoints_best_only/cnn_checkpoint_004\n",
      "INFO:tensorflow:Assets written to: checkpoints_best_only/cnn_checkpoint_004/assets\n",
      "62268/62268 [==============================] - 560s 9ms/sample - loss: 0.7445 - accuracy: 0.7768 - val_loss: 0.6822 - val_accuracy: 0.7971\n",
      "Epoch 5/30\n",
      "62240/62268 [============================>.] - ETA: 0s - loss: 0.6773 - accuracy: 0.7959\n",
      "Epoch 00005: val_accuracy did not improve from 0.79707\n",
      "62268/62268 [==============================] - 557s 9ms/sample - loss: 0.6775 - accuracy: 0.7958 - val_loss: 0.6848 - val_accuracy: 0.7932\n",
      "Epoch 6/30\n",
      "62240/62268 [============================>.] - ETA: 0s - loss: 0.6366 - accuracy: 0.8084\n",
      "Epoch 00006: val_accuracy improved from 0.79707 to 0.80954, saving model to checkpoints_best_only/cnn_checkpoint_006\n",
      "INFO:tensorflow:Assets written to: checkpoints_best_only/cnn_checkpoint_006/assets\n",
      "62268/62268 [==============================] - 558s 9ms/sample - loss: 0.6367 - accuracy: 0.8084 - val_loss: 0.6393 - val_accuracy: 0.8095\n",
      "Epoch 7/30\n",
      "62240/62268 [============================>.] - ETA: 0s - loss: 0.6185 - accuracy: 0.8145\n",
      "Epoch 00007: val_accuracy did not improve from 0.80954\n",
      "62268/62268 [==============================] - 564s 9ms/sample - loss: 0.6183 - accuracy: 0.8146 - val_loss: 0.6975 - val_accuracy: 0.7880\n",
      "Epoch 8/30\n",
      "62240/62268 [============================>.] - ETA: 0s - loss: 0.5956 - accuracy: 0.8206\n",
      "Epoch 00008: val_accuracy improved from 0.80954 to 0.81290, saving model to checkpoints_best_only/cnn_checkpoint_008\n",
      "INFO:tensorflow:Assets written to: checkpoints_best_only/cnn_checkpoint_008/assets\n",
      "62268/62268 [==============================] - 569s 9ms/sample - loss: 0.5956 - accuracy: 0.8205 - val_loss: 0.6400 - val_accuracy: 0.8129\n",
      "Epoch 9/30\n",
      "62240/62268 [============================>.] - ETA: 0s - loss: 0.5836 - accuracy: 0.8235\n",
      "Epoch 00009: val_accuracy improved from 0.81290 to 0.81500, saving model to checkpoints_best_only/cnn_checkpoint_009\n",
      "INFO:tensorflow:Assets written to: checkpoints_best_only/cnn_checkpoint_009/assets\n",
      "62268/62268 [==============================] - 552s 9ms/sample - loss: 0.5837 - accuracy: 0.8236 - val_loss: 0.6288 - val_accuracy: 0.8150\n",
      "Epoch 10/30\n",
      "62240/62268 [============================>.] - ETA: 0s - loss: 0.5678 - accuracy: 0.8272\n",
      "Epoch 00010: val_accuracy improved from 0.81500 to 0.82765, saving model to checkpoints_best_only/cnn_checkpoint_010\n",
      "INFO:tensorflow:Assets written to: checkpoints_best_only/cnn_checkpoint_010/assets\n",
      "62268/62268 [==============================] - 568s 9ms/sample - loss: 0.5677 - accuracy: 0.8272 - val_loss: 0.5995 - val_accuracy: 0.8276\n",
      "Epoch 11/30\n",
      "62240/62268 [============================>.] - ETA: 0s - loss: 0.5559 - accuracy: 0.8317\n",
      "Epoch 00011: val_accuracy did not improve from 0.82765\n",
      "62268/62268 [==============================] - 564s 9ms/sample - loss: 0.5558 - accuracy: 0.8317 - val_loss: 0.6113 - val_accuracy: 0.8173\n",
      "Epoch 12/30\n",
      "62240/62268 [============================>.] - ETA: 0s - loss: 0.5482 - accuracy: 0.8327\n",
      "Epoch 00012: val_accuracy did not improve from 0.82765\n",
      "62268/62268 [==============================] - 564s 9ms/sample - loss: 0.5482 - accuracy: 0.8327 - val_loss: 0.6084 - val_accuracy: 0.8182\n",
      "Epoch 13/30\n",
      "62240/62268 [============================>.] - ETA: 0s - loss: 0.5410 - accuracy: 0.8355\n",
      "Epoch 00013: val_accuracy did not improve from 0.82765\n",
      "62268/62268 [==============================] - 550s 9ms/sample - loss: 0.5409 - accuracy: 0.8355 - val_loss: 0.5977 - val_accuracy: 0.8251\n"
     ]
    }
   ],
   "source": [
    "# Compile and train the model (we recommend a maximum of 30 epochs), making use of both training and validation sets during the training run.\n",
    "cnn_model.compile(optimizer='adam', loss='sparse_categorical_crossentropy', metrics=['accuracy'])\n",
    "cnn_history = cnn_model.fit(x=training_images_gray[..., np.newaxis], y=training_labels - 1, \n",
    "                        epochs=30, validation_split=0.15, batch_size=32, \n",
    "                        callbacks=[cnn_checkpoint_best, early_stopping])"
   ]
  },
  {
   "cell_type": "code",
   "execution_count": 16,
   "metadata": {},
   "outputs": [
    {
     "data": {
      "image/png": "[encoded data removed]",
      "text/plain": [
       "<Figure size 432x288 with 1 Axes>"
      ]
     },
     "metadata": {
      "needs_background": "light"
     },
     "output_type": "display_data"
    }
   ],
   "source": [
    "# Plot the learning curves for loss vs epoch and accuracy vs epoch for both training and validation sets.\n",
    "plt.plot(cnn_history.history['accuracy'])\n",
    "plt.plot(cnn_history.history['val_accuracy'])\n",
    "plt.title('Accuracy vs. epochs')\n",
    "plt.ylabel('Accuracy')\n",
    "plt.xlabel('Epoch')\n",
    "plt.legend(['Training', 'Validation'], loc='lower right')\n",
    "plt.show()"
   ]
  },
  {
   "cell_type": "code",
   "execution_count": 22,
   "metadata": {},
   "outputs": [
    {
     "data": {
      "image/png": "[encoded data removed]",
      "text/plain": [
       "<Figure size 432x288 with 1 Axes>"
      ]
     },
     "metadata": {
      "needs_background": "light"
     },
     "output_type": "display_data"
    }
   ],
   "source": [
    "plt.plot(cnn_history.history['loss'])\n",
    "plt.plot(cnn_history.history['val_loss'])\n",
    "plt.title('Loss vs. epochs')\n",
    "plt.ylabel('Loss')\n",
    "plt.xlabel('Epoch')\n",
    "plt.legend(['Training', 'Validation'], loc='lower right')\n",
    "plt.show()"
   ]
  },
  {
   "cell_type": "code",
   "execution_count": 23,
   "metadata": {},
   "outputs": [
    {
     "name": "stdout",
     "output_type": "stream",
     "text": [
      "26032/1 - 55s - loss: 0.6731 - accuracy: 0.8036\n",
      "accuracy: 0.804, loss: 0.669\n"
     ]
    }
   ],
   "source": [
    "# Compute and display the loss and accuracy of the trained model on the test set.\n",
    "get_test_accuracy(cnn_model, testing_images_gray[..., np.newaxis], testing_labels - 1)"
   ]
  },
  {
   "cell_type": "markdown",
   "metadata": {},
   "source": [
    "## 4. Get model predictions\n",
    "* Load the best weights for the MLP and CNN models that you saved during the training run.\n",
    "* Randomly select 5 images and corresponding labels from the test set and display the images with their labels.\n",
    "* Alongside the image and label, show each model’s predictive distribution as a bar chart, and the final model prediction given by the label with maximum probability."
   ]
  },
  {
   "cell_type": "code",
   "execution_count": 67,
   "metadata": {},
   "outputs": [],
   "source": [
    "from tensorflow.keras.models import load_model\n",
    "\n",
    "prediction_amount = 5\n",
    "random_idx = np.random.randint(testing_images_gray.shape[0], size=prediction_amount)\n",
    "\n",
    "random_testing_images_gray = testing_images_gray[random_idx,:]\n",
    "random_testing_labels = testing_labels[random_idx,:]\n",
    "\n",
    "prediction_digits = list(range(1, 11))"
   ]
  },
  {
   "cell_type": "code",
   "execution_count": 68,
   "metadata": {},
   "outputs": [
    {
     "name": "stdout",
     "output_type": "stream",
     "text": [
      "[[1.2801775e-04 2.9454615e-05 2.0065470e-07 7.1076214e-11 3.3918554e-12\n",
      "  3.6639991e-10 9.9984086e-01 2.3711252e-07 4.5357451e-10 1.1625851e-06]\n",
      " [1.2701117e-02 8.8547207e-03 6.1079217e-03 1.5130135e-01 6.2701888e-03\n",
      "  3.2671612e-02 1.2852144e-03 1.8805726e-01 4.2900586e-01 1.6374478e-01]\n",
      " [2.1827038e-01 5.6743715e-02 4.5061898e-03 2.1875731e-03 5.6031304e-03\n",
      "  2.6694380e-04 6.7837405e-01 8.7603199e-05 1.7976271e-02 1.5984179e-02]\n",
      " [2.1887608e-02 8.4008789e-01 4.2205032e-02 6.7705527e-04 5.5804534e-04\n",
      "  1.6454207e-04 6.5221772e-02 4.1845040e-03 2.1637604e-02 3.3757996e-03]\n",
      " [8.5985539e-03 5.8738806e-04 2.6439561e-03 6.6012694e-03 4.3919492e-03\n",
      "  1.6823664e-01 1.4010836e-06 4.6579295e-01 4.3261621e-02 2.9988420e-01]]\n"
     ]
    }
   ],
   "source": [
    "mlp_r_module = load_model('checkpoints_best_only/checkpoint_010/')\n",
    "mlp_r_predictions = mlp_r_module.predict(random_testing_images_gray)\n",
    "print(mlp_r_predictions)"
   ]
  },
  {
   "cell_type": "code",
   "execution_count": 69,
   "metadata": {},
   "outputs": [
    {
     "name": "stdout",
     "output_type": "stream",
     "text": [
      "[[1.1941922e-04 1.4873418e-04 5.6326294e-06 3.9708559e-11 1.8574323e-11\n",
      "  1.2335622e-12 9.9972624e-01 3.8091633e-10 1.1704611e-10 6.5497852e-10]\n",
      " [4.2336206e-03 4.8338771e-03 4.1440846e-03 3.6014184e-01 1.9239775e-05\n",
      "  4.4356243e-04 9.4621455e-06 4.0729363e-03 5.1685691e-01 1.0524446e-01]\n",
      " [2.7399231e-03 1.5312321e-02 1.4037137e-04 9.6026963e-07 8.8455451e-08\n",
      "  3.0563960e-08 9.8173964e-01 2.4647175e-06 1.7377345e-06 6.2461513e-05]\n",
      " [4.3329529e-02 4.6593666e-01 3.8613215e-01 4.2705189e-02 3.3374815e-03\n",
      "  1.4040793e-03 1.1473086e-02 1.1785192e-02 2.8087318e-02 5.8093248e-03]\n",
      " [1.2399153e-02 6.0797529e-04 2.6156694e-01 1.2826516e-03 1.5569750e-03\n",
      "  1.5262867e-03 4.4690087e-03 6.8938804e-01 9.1977408e-03 1.8005256e-02]]\n"
     ]
    }
   ],
   "source": [
    "cnn_r_module = load_model('checkpoints_best_only/cnn_checkpoint_010')\n",
    "cnn_r_predictions = cnn_r_module.predict(random_testing_images_gray[..., np.newaxis])\n",
    "print(cnn_r_predictions)"
   ]
  },
  {
   "cell_type": "code",
   "execution_count": 70,
   "metadata": {},
   "outputs": [
    {
     "data": {
      "image/png": "[encoded data removed]",
      "text/plain": [
       "<PIL.Image.Image image mode=L size=32x32 at 0x7F424C242828>"
      ]
     },
     "metadata": {},
     "output_type": "display_data"
    },
    {
     "name": "stdout",
     "output_type": "stream",
     "text": [
      "Real label: [7]\n",
      "Predicted by MLP label=7\n",
      "Predicted by CNN label=7\n"
     ]
    },
    {
     "data": {
      "image/png": "[encoded data removed]",
      "text/plain": [
       "<Figure size 432x288 with 1 Axes>"
      ]
     },
     "metadata": {
      "needs_background": "light"
     },
     "output_type": "display_data"
    },
    {
     "data": {
      "image/png": "[encoded data removed]",
      "text/plain": [
       "<Figure size 432x288 with 1 Axes>"
      ]
     },
     "metadata": {
      "needs_background": "light"
     },
     "output_type": "display_data"
    },
    {
     "data": {
      "image/png": "[encoded data removed]",
      "text/plain": [
       "<PIL.Image.Image image mode=L size=32x32 at 0x7F424C772780>"
      ]
     },
     "metadata": {},
     "output_type": "display_data"
    },
    {
     "name": "stdout",
     "output_type": "stream",
     "text": [
      "Real label: [3]\n",
      "Predicted by MLP label=9\n",
      "Predicted by CNN label=9\n"
     ]
    },
    {
     "data": {
      "image/png": "[encoded data removed]",
      "text/plain": [
       "<Figure size 432x288 with 1 Axes>"
      ]
     },
     "metadata": {
      "needs_background": "light"
     },
     "output_type": "display_data"
    },
    {
     "data": {
      "image/png": "[encoded data removed]",
      "text/plain": [
       "<Figure size 432x288 with 1 Axes>"
      ]
     },
     "metadata": {
      "needs_background": "light"
     },
     "output_type": "display_data"
    },
    {
     "data": {
      "image/png": "[encoded data removed]",
      "text/plain": [
       "<PIL.Image.Image image mode=L size=32x32 at 0x7F424C0BC0F0>"
      ]
     },
     "metadata": {},
     "output_type": "display_data"
    },
    {
     "name": "stdout",
     "output_type": "stream",
     "text": [
      "Real label: [7]\n",
      "Predicted by MLP label=7\n",
      "Predicted by CNN label=7\n"
     ]
    },
    {
     "data": {
      "image/png": "[encoded data removed]",
      "text/plain": [
       "<Figure size 432x288 with 1 Axes>"
      ]
     },
     "metadata": {
      "needs_background": "light"
     },
     "output_type": "display_data"
    },
    {
     "data": {
      "image/png": "[encoded data removed]",
      "text/plain": [
       "<Figure size 432x288 with 1 Axes>"
      ]
     },
     "metadata": {
      "needs_background": "light"
     },
     "output_type": "display_data"
    },
    {
     "data": {
      "image/png": "[encoded data removed]",
      "text/plain": [
       "<PIL.Image.Image image mode=L size=32x32 at 0x7F4244F7E198>"
      ]
     },
     "metadata": {},
     "output_type": "display_data"
    },
    {
     "name": "stdout",
     "output_type": "stream",
     "text": [
      "Real label: [2]\n",
      "Predicted by MLP label=2\n",
      "Predicted by CNN label=2\n"
     ]
    },
    {
     "data": {
      "image/png": "[encoded data removed]",
      "text/plain": [
       "<Figure size 432x288 with 1 Axes>"
      ]
     },
     "metadata": {
      "needs_background": "light"
     },
     "output_type": "display_data"
    },
    {
     "data": {
      "image/png": "[encoded data removed]",
      "text/plain": [
       "<Figure size 432x288 with 1 Axes>"
      ]
     },
     "metadata": {
      "needs_background": "light"
     },
     "output_type": "display_data"
    },
    {
     "data": {
      "image/png": "[encoded data removed]",
      "text/plain": [
       "<PIL.Image.Image image mode=L size=32x32 at 0x7F4244F13C88>"
      ]
     },
     "metadata": {},
     "output_type": "display_data"
    },
    {
     "name": "stdout",
     "output_type": "stream",
     "text": [
      "Real label: [8]\n",
      "Predicted by MLP label=8\n",
      "Predicted by CNN label=8\n"
     ]
    },
    {
     "data": {
      "image/png": "[encoded data removed]",
      "text/plain": [
       "<Figure size 432x288 with 1 Axes>"
      ]
     },
     "metadata": {
      "needs_background": "light"
     },
     "output_type": "display_data"
    },
    {
     "data": {
      "image/png": "[encoded data removed]",
      "text/plain": [
       "<Figure size 432x288 with 1 Axes>"
      ]
     },
     "metadata": {
      "needs_background": "light"
     },
     "output_type": "display_data"
    }
   ],
   "source": [
    "for i in range(prediction_amount):\n",
    "    img = Image.fromarray(random_testing_images_gray[i, ...]).convert(\"L\")\n",
    "    label = random_testing_labels[i]\n",
    "    display(img)\n",
    "    print(f\"Real label: {label}\")\n",
    "    print(f\"Predicted by MLP label={prediction_digits[np.argmax(mlp_r_predictions[i])]}\")\n",
    "    print(f\"Predicted by CNN label={prediction_digits[np.argmax(cnn_r_predictions[i])]}\")\n",
    "    \n",
    "    plt.title(\"MLP\")\n",
    "    plt.bar(prediction_digits, mlp_r_predictions[i])\n",
    "    plt.show()\n",
    "    \n",
    "    plt.title(\"CNN\")\n",
    "    plt.bar(prediction_digits, cnn_r_predictions[i])\n",
    "    plt.show()"
   ]
  }
 ],
 "metadata": {
  "kernelspec": {
   "display_name": "Python 3",
   "language": "python",
   "name": "python3"
  },
  "language_info": {
   "codemirror_mode": {
    "name": "ipython",
    "version": 3
   },
   "file_extension": ".py",
   "mimetype": "text/x-python",
   "name": "python",
   "nbconvert_exporter": "python",
   "pygments_lexer": "ipython3",
   "version": "3.7.1"
  }
 },
 "nbformat": 4,
 "nbformat_minor": 2
}
